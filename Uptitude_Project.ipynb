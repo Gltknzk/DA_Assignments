{
  "cells": [
    {
      "cell_type": "markdown",
      "metadata": {
        "id": "view-in-github",
        "colab_type": "text"
      },
      "source": [
        "<a href=\"https://colab.research.google.com/github/Gltknzk/My-Works_Data-Analysis/blob/master/Uptitude_Project.ipynb\" target=\"_parent\"><img src=\"https://colab.research.google.com/assets/colab-badge.svg\" alt=\"Open In Colab\"/></a>"
      ]
    },
    {
      "cell_type": "markdown",
      "metadata": {
        "id": "FV-laGohI8zO"
      },
      "source": [
        "###UPTITUDE PROJECT EDA"
      ]
    },
    {
      "cell_type": "markdown",
      "metadata": {
        "id": "x3ZuNLDSI8zU"
      },
      "source": [
        "\n",
        "\n",
        "This NoteBook aims to make Explanatory Data Analysis of You Tube Data for year of 2021. \n",
        "\n",
        "The project consists of **3 parts:**\n",
        "* **``First part``** is related to **``'data cleaning'``**. It deals with Incorrect Headers (Column names), Incorrect Format, Anomalies, Dropping useless columns.\n",
        "* **``Second part``** is related to **``'filling data'``** and **handling outliers** if needed.\n",
        "* **``Third part``** is related to finding meaningfull insights from the data given"
      ]
    },
    {
      "cell_type": "markdown",
      "metadata": {
        "id": "11dqv5iSI8zg"
      },
      "source": [
        "## <p style=\"background-color:#9d4f8c; font-family:newtimeroman; color:#FFF9ED; font-size:175%; text-align:center; border-radius:10px 10px;\">Importing Libraries Needed in This Notebook</p>\n",
        "\n",
        "<a id=\"1\"></a>\n",
        "<a href=\"#toc\" class=\"btn btn-primary btn-sm\" role=\"button\" aria-pressed=\"true\" \n",
        "style=\"color:blue; background-color:#dfa8e4\" data-toggle=\"popover\">Content</a>\n",
        "\n",
        "Once you've installed NumPy & Pandas you can import them as a library:"
      ]
    },
    {
      "cell_type": "code",
      "execution_count": null,
      "metadata": {
        "id": "Um0B5VdRI8z3"
      },
      "outputs": [],
      "source": [
        "import numpy as np\n",
        "import pandas as pd\n",
        "import seaborn as sns \n",
        "import matplotlib.pyplot as plt\n",
        "\n",
        "import warnings\n",
        "warnings.filterwarnings(\"ignore\")\n",
        "warnings.warn(\"this will not show\")\n",
        "\n",
        "%matplotlib inline\n",
        "# %matplotlib notebook\n",
        "\n",
        "plt.rcParams[\"figure.figsize\"] = (10,6)\n",
        "# plt.rcParams['figure.dpi'] = 100\n",
        "\n",
        "sns.set_style(\"whitegrid\")\n",
        "pd.set_option('display.float_format', lambda x: '%.2f' % x)\n",
        "\n",
        "pd.options.display.max_rows = 100\n",
        "pd.options.display.max_columns = 100"
      ]
    },
    {
      "cell_type": "markdown",
      "metadata": {
        "id": "oS1lIjcDI80F"
      },
      "source": [
        "## <p style=\"background-color:#9d4f8c; font-family:newtimeroman; color:#FFF9ED; font-size:175%; text-align:center; border-radius:10px 10px;\">PART- 01 (Data Cleaning)</p>\n",
        "\n",
        "<a id=\"2\"></a>\n",
        "<a href=\"#toc\" class=\"btn btn-primary btn-sm\" role=\"button\" aria-pressed=\"true\" \n",
        "style=\"color:blue; background-color:#dfa8e4\" data-toggle=\"popover\">Content</a>"
      ]
    },
    {
      "cell_type": "code",
      "execution_count": null,
      "metadata": {
        "id": "yC26tgF_I80M"
      },
      "outputs": [],
      "source": [
        "df = pd.read_excel(\"Youtube Data.xlsx\")"
      ]
    },
    {
      "cell_type": "code",
      "execution_count": null,
      "metadata": {
        "colab": {
          "base_uri": "https://localhost:8080/",
          "height": 294
        },
        "id": "eeKzlEcKI80S",
        "outputId": "15254eb2-494a-4666-8146-b4358dbc095d"
      },
      "outputs": [
        {
          "output_type": "execute_result",
          "data": {
            "text/plain": [
              "      Brand    Market               Title                        Video URL  \\\n",
              "0    AVEENO    Canada       Aveeno Canada  youtube.com/watch?v=EaY-IoTqfWQ   \n",
              "1    AVEENO    Canada       Aveeno Canada  youtube.com/watch?v=EaY-IoTqfWQ   \n",
              "2  CAREFREE  Colombia  ¡Nos pasa a todas!  youtube.com/watch?v=MUF62kJ8_p0   \n",
              "\n",
              "    Views Monitoring ID Has Description?           Location?  \\\n",
              "0   22374     IDM 02688  Has Description  Location Specified   \n",
              "1   22374     IDM 02688  Has Description  Location Specified   \n",
              "2  119973     IDM 02688  Has Description  Location Specified   \n",
              "\n",
              "          Comments?  Scan Date  \n",
              "0  Comments Enabled 2021-02-16  \n",
              "1  Comments Enabled 2021-03-05  \n",
              "2  Comments Enabled 2021-02-16  "
            ],
            "text/html": [
              "\n",
              "  <div id=\"df-eb97eadf-ee78-4158-9f59-644f45ae8538\">\n",
              "    <div class=\"colab-df-container\">\n",
              "      <div>\n",
              "<style scoped>\n",
              "    .dataframe tbody tr th:only-of-type {\n",
              "        vertical-align: middle;\n",
              "    }\n",
              "\n",
              "    .dataframe tbody tr th {\n",
              "        vertical-align: top;\n",
              "    }\n",
              "\n",
              "    .dataframe thead th {\n",
              "        text-align: right;\n",
              "    }\n",
              "</style>\n",
              "<table border=\"1\" class=\"dataframe\">\n",
              "  <thead>\n",
              "    <tr style=\"text-align: right;\">\n",
              "      <th></th>\n",
              "      <th>Brand</th>\n",
              "      <th>Market</th>\n",
              "      <th>Title</th>\n",
              "      <th>Video URL</th>\n",
              "      <th>Views</th>\n",
              "      <th>Monitoring ID</th>\n",
              "      <th>Has Description?</th>\n",
              "      <th>Location?</th>\n",
              "      <th>Comments?</th>\n",
              "      <th>Scan Date</th>\n",
              "    </tr>\n",
              "  </thead>\n",
              "  <tbody>\n",
              "    <tr>\n",
              "      <th>0</th>\n",
              "      <td>AVEENO</td>\n",
              "      <td>Canada</td>\n",
              "      <td>Aveeno Canada</td>\n",
              "      <td>youtube.com/watch?v=EaY-IoTqfWQ</td>\n",
              "      <td>22374</td>\n",
              "      <td>IDM 02688</td>\n",
              "      <td>Has Description</td>\n",
              "      <td>Location Specified</td>\n",
              "      <td>Comments Enabled</td>\n",
              "      <td>2021-02-16</td>\n",
              "    </tr>\n",
              "    <tr>\n",
              "      <th>1</th>\n",
              "      <td>AVEENO</td>\n",
              "      <td>Canada</td>\n",
              "      <td>Aveeno Canada</td>\n",
              "      <td>youtube.com/watch?v=EaY-IoTqfWQ</td>\n",
              "      <td>22374</td>\n",
              "      <td>IDM 02688</td>\n",
              "      <td>Has Description</td>\n",
              "      <td>Location Specified</td>\n",
              "      <td>Comments Enabled</td>\n",
              "      <td>2021-03-05</td>\n",
              "    </tr>\n",
              "    <tr>\n",
              "      <th>2</th>\n",
              "      <td>CAREFREE</td>\n",
              "      <td>Colombia</td>\n",
              "      <td>¡Nos pasa a todas!</td>\n",
              "      <td>youtube.com/watch?v=MUF62kJ8_p0</td>\n",
              "      <td>119973</td>\n",
              "      <td>IDM 02688</td>\n",
              "      <td>Has Description</td>\n",
              "      <td>Location Specified</td>\n",
              "      <td>Comments Enabled</td>\n",
              "      <td>2021-02-16</td>\n",
              "    </tr>\n",
              "  </tbody>\n",
              "</table>\n",
              "</div>\n",
              "      <button class=\"colab-df-convert\" onclick=\"convertToInteractive('df-eb97eadf-ee78-4158-9f59-644f45ae8538')\"\n",
              "              title=\"Convert this dataframe to an interactive table.\"\n",
              "              style=\"display:none;\">\n",
              "        \n",
              "  <svg xmlns=\"http://www.w3.org/2000/svg\" height=\"24px\"viewBox=\"0 0 24 24\"\n",
              "       width=\"24px\">\n",
              "    <path d=\"M0 0h24v24H0V0z\" fill=\"none\"/>\n",
              "    <path d=\"M18.56 5.44l.94 2.06.94-2.06 2.06-.94-2.06-.94-.94-2.06-.94 2.06-2.06.94zm-11 1L8.5 8.5l.94-2.06 2.06-.94-2.06-.94L8.5 2.5l-.94 2.06-2.06.94zm10 10l.94 2.06.94-2.06 2.06-.94-2.06-.94-.94-2.06-.94 2.06-2.06.94z\"/><path d=\"M17.41 7.96l-1.37-1.37c-.4-.4-.92-.59-1.43-.59-.52 0-1.04.2-1.43.59L10.3 9.45l-7.72 7.72c-.78.78-.78 2.05 0 2.83L4 21.41c.39.39.9.59 1.41.59.51 0 1.02-.2 1.41-.59l7.78-7.78 2.81-2.81c.8-.78.8-2.07 0-2.86zM5.41 20L4 18.59l7.72-7.72 1.47 1.35L5.41 20z\"/>\n",
              "  </svg>\n",
              "      </button>\n",
              "      \n",
              "  <style>\n",
              "    .colab-df-container {\n",
              "      display:flex;\n",
              "      flex-wrap:wrap;\n",
              "      gap: 12px;\n",
              "    }\n",
              "\n",
              "    .colab-df-convert {\n",
              "      background-color: #E8F0FE;\n",
              "      border: none;\n",
              "      border-radius: 50%;\n",
              "      cursor: pointer;\n",
              "      display: none;\n",
              "      fill: #1967D2;\n",
              "      height: 32px;\n",
              "      padding: 0 0 0 0;\n",
              "      width: 32px;\n",
              "    }\n",
              "\n",
              "    .colab-df-convert:hover {\n",
              "      background-color: #E2EBFA;\n",
              "      box-shadow: 0px 1px 2px rgba(60, 64, 67, 0.3), 0px 1px 3px 1px rgba(60, 64, 67, 0.15);\n",
              "      fill: #174EA6;\n",
              "    }\n",
              "\n",
              "    [theme=dark] .colab-df-convert {\n",
              "      background-color: #3B4455;\n",
              "      fill: #D2E3FC;\n",
              "    }\n",
              "\n",
              "    [theme=dark] .colab-df-convert:hover {\n",
              "      background-color: #434B5C;\n",
              "      box-shadow: 0px 1px 3px 1px rgba(0, 0, 0, 0.15);\n",
              "      filter: drop-shadow(0px 1px 2px rgba(0, 0, 0, 0.3));\n",
              "      fill: #FFFFFF;\n",
              "    }\n",
              "  </style>\n",
              "\n",
              "      <script>\n",
              "        const buttonEl =\n",
              "          document.querySelector('#df-eb97eadf-ee78-4158-9f59-644f45ae8538 button.colab-df-convert');\n",
              "        buttonEl.style.display =\n",
              "          google.colab.kernel.accessAllowed ? 'block' : 'none';\n",
              "\n",
              "        async function convertToInteractive(key) {\n",
              "          const element = document.querySelector('#df-eb97eadf-ee78-4158-9f59-644f45ae8538');\n",
              "          const dataTable =\n",
              "            await google.colab.kernel.invokeFunction('convertToInteractive',\n",
              "                                                     [key], {});\n",
              "          if (!dataTable) return;\n",
              "\n",
              "          const docLinkHtml = 'Like what you see? Visit the ' +\n",
              "            '<a target=\"_blank\" href=https://colab.research.google.com/notebooks/data_table.ipynb>data table notebook</a>'\n",
              "            + ' to learn more about interactive tables.';\n",
              "          element.innerHTML = '';\n",
              "          dataTable['output_type'] = 'display_data';\n",
              "          await google.colab.output.renderOutput(dataTable, element);\n",
              "          const docLink = document.createElement('div');\n",
              "          docLink.innerHTML = docLinkHtml;\n",
              "          element.appendChild(docLink);\n",
              "        }\n",
              "      </script>\n",
              "    </div>\n",
              "  </div>\n",
              "  "
            ]
          },
          "metadata": {},
          "execution_count": 6
        }
      ],
      "source": [
        "df.head(3)"
      ]
    },
    {
      "cell_type": "code",
      "execution_count": null,
      "metadata": {
        "colab": {
          "base_uri": "https://localhost:8080/"
        },
        "id": "4c6vCuH7I80V",
        "outputId": "780c03d8-d0aa-4118-87aa-e55de1695f3b"
      },
      "outputs": [
        {
          "output_type": "stream",
          "name": "stdout",
          "text": [
            "<class 'pandas.core.frame.DataFrame'>\n",
            "RangeIndex: 4076 entries, 0 to 4075\n",
            "Data columns (total 10 columns):\n",
            " #   Column            Non-Null Count  Dtype         \n",
            "---  ------            --------------  -----         \n",
            " 0   Brand             4076 non-null   object        \n",
            " 1   Market            4076 non-null   object        \n",
            " 2   Title             4076 non-null   object        \n",
            " 3   Video URL         4076 non-null   object        \n",
            " 4   Views             4076 non-null   int64         \n",
            " 5   Monitoring ID     1607 non-null   object        \n",
            " 6   Has Description?  4076 non-null   object        \n",
            " 7   Location?         4076 non-null   object        \n",
            " 8   Comments?         4076 non-null   object        \n",
            " 9   Scan Date         4076 non-null   datetime64[ns]\n",
            "dtypes: datetime64[ns](1), int64(1), object(8)\n",
            "memory usage: 318.6+ KB\n"
          ]
        }
      ],
      "source": [
        "df.info()"
      ]
    },
    {
      "cell_type": "code",
      "execution_count": null,
      "metadata": {
        "colab": {
          "base_uri": "https://localhost:8080/"
        },
        "id": "7c4MePfyI80Y",
        "outputId": "80d8b477-f09e-4887-e089-058f8132fc21"
      },
      "outputs": [
        {
          "output_type": "execute_result",
          "data": {
            "text/plain": [
              "Index(['Brand', 'Market', 'Title', 'Video URL', 'Views', 'Monitoring ID',\n",
              "       'Has Description?', 'Location?', 'Comments?', 'Scan Date'],\n",
              "      dtype='object')"
            ]
          },
          "metadata": {},
          "execution_count": 8
        }
      ],
      "source": [
        "df.columns"
      ]
    },
    {
      "cell_type": "markdown",
      "metadata": {
        "id": "CZwp59jMI80c"
      },
      "source": [
        "**Let us rectify the** **``Incorrect Headers (Column names)``**"
      ]
    },
    {
      "cell_type": "markdown",
      "metadata": {
        "id": "UlnXNsdtI80k"
      },
      "source": [
        "One way of renaming the columns in a Pandas dataframe is by using the **``rename()``** function. This method is quite useful when we need to rename some selected columns because we need to specify information only for the columns which are to be renamed [Source](https://www.geeksforgeeks.org/how-to-rename-columns-in-pandas-dataframe/)."
      ]
    },
    {
      "cell_type": "code",
      "execution_count": null,
      "metadata": {
        "id": "mVWk4Om6I81M"
      },
      "outputs": [],
      "source": [
        "df.rename(columns={\"Video URL\": \"Video_URL\",\n",
        "                   \"Monitoring ID\":\"Monitoring_ID\",\n",
        "                  \"Has Description?\":\"Description\",\n",
        "                  \"Location?\":\"Location\",\n",
        "                   \"Comments?\":\"Comments\",\n",
        "                   \"Scan Date\":\"Scan_Date\"}, inplace=True)\n",
        "# Columns were renamed "
      ]
    },
    {
      "cell_type": "code",
      "execution_count": null,
      "metadata": {
        "colab": {
          "base_uri": "https://localhost:8080/"
        },
        "id": "1ouL9XlyI81Q",
        "outputId": "4b5f8beb-7580-43f8-93d1-8fcf45b5c18d"
      },
      "outputs": [
        {
          "output_type": "stream",
          "name": "stdout",
          "text": [
            "<class 'pandas.core.frame.DataFrame'>\n",
            "RangeIndex: 4076 entries, 0 to 4075\n",
            "Data columns (total 10 columns):\n",
            " #   Column         Non-Null Count  Dtype         \n",
            "---  ------         --------------  -----         \n",
            " 0   Brand          4076 non-null   object        \n",
            " 1   Market         4076 non-null   object        \n",
            " 2   Title          4076 non-null   object        \n",
            " 3   Video_URL      4076 non-null   object        \n",
            " 4   Views          4076 non-null   int64         \n",
            " 5   Monitoring_ID  1607 non-null   object        \n",
            " 6   Description    4076 non-null   object        \n",
            " 7   Location       4076 non-null   object        \n",
            " 8   Comments       4076 non-null   object        \n",
            " 9   Scan_Date      4076 non-null   datetime64[ns]\n",
            "dtypes: datetime64[ns](1), int64(1), object(8)\n",
            "memory usage: 318.6+ KB\n"
          ]
        }
      ],
      "source": [
        "df.info()"
      ]
    },
    {
      "cell_type": "code",
      "execution_count": null,
      "metadata": {
        "colab": {
          "base_uri": "https://localhost:8080/"
        },
        "id": "wlxXhsxnI81S",
        "outputId": "5c915d25-8974-4f3a-a2cd-767f47122c19"
      },
      "outputs": [
        {
          "output_type": "execute_result",
          "data": {
            "text/plain": [
              "(4076, 10)"
            ]
          },
          "metadata": {},
          "execution_count": 11
        }
      ],
      "source": [
        "df.shape"
      ]
    },
    {
      "cell_type": "code",
      "execution_count": null,
      "metadata": {
        "colab": {
          "base_uri": "https://localhost:8080/"
        },
        "id": "A1Dw1KvHI81n",
        "outputId": "2bd41dcf-f7ff-4527-d96a-866195eece90"
      },
      "outputs": [
        {
          "output_type": "execute_result",
          "data": {
            "text/plain": [
              "Brand               0\n",
              "Market              0\n",
              "Title               0\n",
              "Video_URL           0\n",
              "Views               0\n",
              "Monitoring_ID    2469\n",
              "Description         0\n",
              "Location            0\n",
              "Comments            0\n",
              "Scan_Date           0\n",
              "dtype: int64"
            ]
          },
          "metadata": {},
          "execution_count": 12
        }
      ],
      "source": [
        "df.isnull().sum()"
      ]
    },
    {
      "cell_type": "code",
      "execution_count": null,
      "metadata": {
        "colab": {
          "base_uri": "https://localhost:8080/"
        },
        "id": "Q-JYgdXgI81n",
        "outputId": "a961a52d-6070-4638-fc97-df6d4a2b731b"
      },
      "outputs": [
        {
          "output_type": "execute_result",
          "data": {
            "text/plain": [
              "Brand            0.00\n",
              "Market           0.00\n",
              "Title            0.00\n",
              "Video_URL        0.00\n",
              "Views            0.00\n",
              "Monitoring_ID   60.57\n",
              "Description      0.00\n",
              "Location         0.00\n",
              "Comments         0.00\n",
              "Scan_Date        0.00\n",
              "dtype: float64"
            ]
          },
          "metadata": {},
          "execution_count": 13
        }
      ],
      "source": [
        "df.isnull().sum()*100 / df.shape[0]\n",
        "#Only Monitoring_ID column contains missing values"
      ]
    },
    {
      "cell_type": "code",
      "source": [
        "df.duplicated().sum()\n",
        "#There are no duplicated values"
      ],
      "metadata": {
        "colab": {
          "base_uri": "https://localhost:8080/"
        },
        "id": "ww5gN2s2eWn9",
        "outputId": "5231c361-3f7d-4ad7-8409-6075c8f5e29f"
      },
      "execution_count": null,
      "outputs": [
        {
          "output_type": "execute_result",
          "data": {
            "text/plain": [
              "0"
            ]
          },
          "metadata": {},
          "execution_count": 14
        }
      ]
    },
    {
      "cell_type": "markdown",
      "metadata": {
        "id": "ZdC11rGxI816"
      },
      "source": [
        "# Examination of Columns"
      ]
    },
    {
      "cell_type": "markdown",
      "metadata": {
        "id": "PHwgydDmI817"
      },
      "source": [
        "## Brand"
      ]
    },
    {
      "cell_type": "code",
      "execution_count": null,
      "metadata": {
        "colab": {
          "base_uri": "https://localhost:8080/"
        },
        "id": "APOoYkVpI817",
        "outputId": "18ce59bd-dbe7-482e-bf5a-b7e083e7e4d1"
      },
      "outputs": [
        {
          "output_type": "execute_result",
          "data": {
            "text/plain": [
              "ACUVUE                759\n",
              "NEUTROGENA            602\n",
              "TYLENOL               512\n",
              "LISTERINE             414\n",
              "AVEENO                365\n",
              "NICORETTE             330\n",
              "CLEAN&CLEAR           296\n",
              "CAREFREE              188\n",
              "STAYFREE              150\n",
              "LEPETITMARSEILLAIS     80\n",
              "PEPCID                 74\n",
              "OGX                    66\n",
              "BAND-AID               54\n",
              "DR.CI:LABO             30\n",
              "NEOSTRATA              26\n",
              "IMODIUM                26\n",
              "MOTRIN                 24\n",
              "SUDAFED                24\n",
              "RHINOCORT              20\n",
              "PIZ BUIN               12\n",
              "MAUI MOISTURE          10\n",
              "VISINE                  8\n",
              "PENATEN                 4\n",
              "LUBRIDERM               2\n",
              "Name: Brand, dtype: int64"
            ]
          },
          "metadata": {},
          "execution_count": 15
        }
      ],
      "source": [
        "df.Brand.value_counts(dropna=False)\n",
        "#Brand ACUVUE has the highest value count with 759"
      ]
    },
    {
      "cell_type": "code",
      "source": [
        "fig, ax = plt.subplots(figsize=(30, 10))\n",
        "ax= sns.countplot(x=\"Brand\", data=df);"
      ],
      "metadata": {
        "colab": {
          "base_uri": "https://localhost:8080/",
          "height": 244
        },
        "id": "ccrt4RxmmBBw",
        "outputId": "63e87079-f691-4f5e-ce86-2c892f789942"
      },
      "execution_count": null,
      "outputs": [
        {
          "output_type": "display_data",
          "data": {
            "text/plain": [
              "<Figure size 2160x720 with 1 Axes>"
            ],
            "image/png": "[encoded data removed]"
          },
          "metadata": {}
        }
      ]
    },
    {
      "cell_type": "markdown",
      "metadata": {
        "id": "UiA14jMQI819"
      },
      "source": [
        "## Market"
      ]
    },
    {
      "cell_type": "code",
      "execution_count": null,
      "metadata": {
        "colab": {
          "base_uri": "https://localhost:8080/"
        },
        "id": "BOyctNztI81_",
        "outputId": "79f97883-eb6d-4ba3-f1ca-68057fc226f5"
      },
      "outputs": [
        {
          "output_type": "execute_result",
          "data": {
            "text/plain": [
              "Canada                                                 572\n",
              "Australia                                              406\n",
              "Hong Kong                                              328\n",
              "United States of America                               318\n",
              "Saudi Arabia                                           252\n",
              "United Kingdom of Great Britain and Northern Island    224\n",
              "Greece                                                 210\n",
              "Turkey                                                 144\n",
              "Mexico                                                 140\n",
              "Denmark                                                132\n",
              "Colombia                                               130\n",
              "Indonesia                                              122\n",
              "Brazil                                                 112\n",
              "Poland                                                 102\n",
              "Italy                                                   88\n",
              "Japan                                                   86\n",
              "Nordics                                                 72\n",
              "Korea, Republic of                                      70\n",
              "South Africa                                            68\n",
              "Germany                                                 54\n",
              "Argentina                                               53\n",
              "Chile                                                   52\n",
              "Malaysia                                                47\n",
              "Czechia                                                 34\n",
              "Singapore                                               32\n",
              "India                                                   30\n",
              "Peru                                                    28\n",
              "Portugal                                                26\n",
              "Thailand                                                26\n",
              "Israel                                                  24\n",
              "Slovakia                                                20\n",
              "Ecuador                                                 16\n",
              "EMEA                                                    12\n",
              "Sweden                                                  12\n",
              "Philippines                                             10\n",
              "Middle East                                             10\n",
              "Global                                                  10\n",
              "Russian Federation                                       2\n",
              "Belgium                                                  2\n",
              "Name: Market, dtype: int64"
            ]
          },
          "metadata": {},
          "execution_count": 17
        }
      ],
      "source": [
        "df.Market.value_counts(dropna=False)\n",
        "#Canada has the highest value counts with 572"
      ]
    },
    {
      "cell_type": "code",
      "source": [
        "fig, ax = plt.subplots(figsize=(30, 10))\n",
        "ax= sns.countplot(x=\"Market\", data=df);"
      ],
      "metadata": {
        "colab": {
          "base_uri": "https://localhost:8080/",
          "height": 245
        },
        "id": "qGCZQeaYoMPd",
        "outputId": "36d6465d-9693-4419-85a4-21c84de705c6"
      },
      "execution_count": null,
      "outputs": [
        {
          "output_type": "display_data",
          "data": {
            "text/plain": [
              "<Figure size 2160x720 with 1 Axes>"
            ],
            "image/png": "[encoded data removed]"
          },
          "metadata": {}
        }
      ]
    },
    {
      "cell_type": "markdown",
      "metadata": {
        "id": "AmFBilKGI82C"
      },
      "source": [
        "## Title"
      ]
    },
    {
      "cell_type": "code",
      "execution_count": null,
      "metadata": {
        "id": "VAwqs60EI82D"
      },
      "outputs": [],
      "source": [
        "df.Title.value_counts(dropna=False)"
      ]
    },
    {
      "cell_type": "code",
      "source": [
        "# Getting rid of special characters\n",
        "df[\"Title\"]=df[\"Title\"].astype('str').str.strip(\"アビーノ 公式チャンネル\")"
      ],
      "metadata": {
        "id": "qTL5gAJGWS8j"
      },
      "execution_count": null,
      "outputs": []
    },
    {
      "cell_type": "code",
      "source": [
        "df[\"Title\"].value_counts()\n",
        "#Title \"TYLENOL® Canada Brand Channel\" (video title) has the highest value count with 250"
      ],
      "metadata": {
        "colab": {
          "base_uri": "https://localhost:8080/"
        },
        "id": "DAE0ShWHWdEL",
        "outputId": "183d9e59-3791-4024-a2a5-d6d75ad3eb3b"
      },
      "execution_count": null,
      "outputs": [
        {
          "output_type": "execute_result",
          "data": {
            "text/plain": [
              "TYLENOL® Canada Brand Channel           250\n",
              "CLEAN & CLEAR® Arabia                   194\n",
              "Neutrogena Australia & NZ               188\n",
              "Neutrogena HongKong                     158\n",
              "TYLENOLOFFICIAL                         148\n",
              "youtube.com/ACUVUE GREECE               148\n",
              "Rygestop med NICORETTE® Danmark         132\n",
              "¡Nos pasa a todas!                      130\n",
              "Nicorette AU                            114\n",
              "Listerine HK                            110\n",
              "ACUVUE® Contact Lenses, UK & Ireland    108\n",
              "Acuvue INA                              108\n",
              "Aveeno Canada                            86\n",
              "semprelivrebrasil                        82\n",
              "NEUTROGENA® POLSKA                       78\n",
              "Johnson & Johnson Vision Türkiye         74\n",
              "Acuvue Emea                              72\n",
              "Aveeno Australia                         72\n",
              "Tylenol Korea                            70\n",
              "VisionCare Japan                         70\n",
              "STAYFREE® South Africa                   68\n",
              "Clean & Clear Canada                     66\n",
              "Neutrogena México                        62\n",
              "AVEENO UK and IRELAND                    60\n",
              "Aveeno HK                                60\n",
              "ACUVUE® Italia                           58\n",
              "Le Petit Marseillais Arabia              58\n",
              "LISTERINE® México                        54\n",
              "BAND-AID Brand Adhesive Bandages         54\n",
              "ACUVUE® Lentes de Contacto               50\n",
              "LISTERINE© Türkiye                       48\n",
              "Nicorette Canada                         46\n",
              "LISTERINE® Canada                        40\n",
              "Pepcid Canada                            40\n",
              "NEUTROGENA® UK and Ireland               36\n",
              "Clean & Clear Malaysia                   36\n",
              "PEPCID®                                  34\n",
              "LISTERINE® Greece                        32\n",
              "LISTERINE Deutschland                    32\n",
              "Listerine® Italia                        30\n",
              "NEUTROGENA CZ & SK                       30\n",
              "Nicorette GR                             30\n",
              "OGX Beauty                               30\n",
              "Aveeno India                             30\n",
              "Dr.Ci:Labo Singapore                     30\n",
              "ACUVUE ARGENTINA                         29\n",
              "Imodium Polska                           24\n",
              "Tylenol Brasil                           24\n",
              "NEOSTRATA Canada                         24\n",
              "MOTRIN®                                  24\n",
              "Listerine Israel                         24\n",
              "Le Petit Marseillais Türkiye             22\n",
              "Acuvue México                            22\n",
              "ACUVUE® SK                               20\n",
              "SUDAFED® UK                              20\n",
              "Carefree Canada                          20\n",
              "Carefree® Argentina                      20\n",
              "CAREFREE® Deutschland                    18\n",
              "Tylenol Thailand Thailand                18\n",
              "Neutrogena Perú                          18\n",
              "OGX Australia                            16\n",
              "LISTERINE® Ecuador                       16\n",
              "Aveeno Japan                             16\n",
              "RHINOCORT®                               14\n",
              "OGX EMEA                                 12\n",
              "Neutrogena Portugal                      12\n",
              "LISTERINE® Sverige                       12\n",
              "Maui moisture Australia                  10\n",
              "Neutrogena PH                            10\n",
              "LISTERINE® Perú                          10\n",
              "Piz Buin                                 10\n",
              "Aveeno Malaysia                           9\n",
              "VISINEOfficial                            8\n",
              "Aveeno Thailand                           8\n",
              "Aveeno ME                                 8\n",
              "Neutrogena Indonesia                      8\n",
              "Nicorette Portugal                        8\n",
              "OGX Beauty Brasil                         6\n",
              "Rhinocort Australia                       6\n",
              "Aveeno Indonesia                          6\n",
              "Aveno                                     4\n",
              "SUDAFED®                                  4\n",
              "LISTERINE CZ                              4\n",
              "PENATEN®                                  4\n",
              "Aveeno Portugal                           4\n",
              "Aveeno® Chile                             2\n",
              "NeoStrata Malaysia                        2\n",
              "Piz Buin ® Portugal                       2\n",
              "NEUTROGENA® Russia                        2\n",
              "Lubriderm USA                             2\n",
              "Ogx Singapore                             2\n",
              "LISTERINE® België                         2\n",
              "Imodium Middle East                       2\n",
              "Tylenol México                            2\n",
              "Name: Title, dtype: int64"
            ]
          },
          "metadata": {},
          "execution_count": 21
        }
      ]
    },
    {
      "cell_type": "code",
      "source": [
        "df.columns"
      ],
      "metadata": {
        "colab": {
          "base_uri": "https://localhost:8080/"
        },
        "id": "IbSYK9MbN_rS",
        "outputId": "b4594342-b379-403b-a803-633a618711ff"
      },
      "execution_count": null,
      "outputs": [
        {
          "output_type": "execute_result",
          "data": {
            "text/plain": [
              "Index(['Brand', 'Market', 'Title', 'Video_URL', 'Views', 'Monitoring_ID',\n",
              "       'Description', 'Location', 'Comments', 'Scan_Date'],\n",
              "      dtype='object')"
            ]
          },
          "metadata": {},
          "execution_count": 22
        }
      ]
    },
    {
      "cell_type": "markdown",
      "metadata": {
        "id": "fxuRUx3bI82G"
      },
      "source": [
        "## Video URL"
      ]
    },
    {
      "cell_type": "code",
      "execution_count": null,
      "metadata": {
        "colab": {
          "base_uri": "https://localhost:8080/"
        },
        "id": "X3_u7Zm3I82H",
        "outputId": "3466dea1-1c7a-46a3-bbc6-be9977707a37"
      },
      "outputs": [
        {
          "output_type": "execute_result",
          "data": {
            "text/plain": [
              "youtube.com/watch?v=EaY-IoTqfWQ    2\n",
              "youtube.com/watch?v=JaIkJWnaYtQ    2\n",
              "youtube.com/watch?v=7blU1YcTjw4    2\n",
              "youtube.com/watch?v=59LnhjTpMy8    2\n",
              "youtube.com/watch?v=3AuuFMwONjA    2\n",
              "                                  ..\n",
              "youtube.com/watch?v=YfKoUz2TIXs    1\n",
              "youtube.com/watch?v=Xr9cy5JoWPQ    1\n",
              "youtube.com/watch?v=tRVYtOb0vQ4    1\n",
              "youtube.com/watch?v=tnEa_OkPpvY    1\n",
              "youtube.com/watch?v=55cWiPRUxws    1\n",
              "Name: Video_URL, Length: 2059, dtype: int64"
            ]
          },
          "metadata": {},
          "execution_count": 23
        }
      ],
      "source": [
        "df[\"Video_URL\"].value_counts(dropna=False)\n",
        "#This columns just gives the URLs of videos, may not give any insights"
      ]
    },
    {
      "cell_type": "markdown",
      "metadata": {
        "id": "3vmjw3hlI82N"
      },
      "source": [
        "## Views"
      ]
    },
    {
      "cell_type": "code",
      "execution_count": null,
      "metadata": {
        "colab": {
          "base_uri": "https://localhost:8080/"
        },
        "id": "h2x0GEJiI82Q",
        "outputId": "762579d7-d9ed-4c0d-aee1-7dfd3cb31c45"
      },
      "outputs": [
        {
          "output_type": "execute_result",
          "data": {
            "text/plain": [
              "6          18\n",
              "4          16\n",
              "26         16\n",
              "5          14\n",
              "7          14\n",
              "           ..\n",
              "132942      1\n",
              "119863      1\n",
              "71324       1\n",
              "424941      1\n",
              "1225893     1\n",
              "Name: Views, Length: 1730, dtype: int64"
            ]
          },
          "metadata": {},
          "execution_count": 24
        }
      ],
      "source": [
        "df.Views.value_counts(dropna=False)\n",
        "# Most repeated View count is 6 with 18"
      ]
    },
    {
      "cell_type": "markdown",
      "metadata": {
        "id": "HL3huQqfI82R"
      },
      "source": [
        "## Monitoring ID"
      ]
    },
    {
      "cell_type": "code",
      "source": [
        "df[\"Monitoring_ID\"].value_counts(dropna=False)\n",
        "#There are 2469 Null values and and 1591 No IDM values. This columns will not give any insights since there mostly misiing values."
      ],
      "metadata": {
        "colab": {
          "base_uri": "https://localhost:8080/"
        },
        "id": "eiI-Y-LoPCtp",
        "outputId": "0b273706-be61-4a44-b351-eec2ea1396dc"
      },
      "execution_count": null,
      "outputs": [
        {
          "output_type": "execute_result",
          "data": {
            "text/plain": [
              "NaN          2469\n",
              "No IDM       1591\n",
              "IDM 02688      16\n",
              "Name: Monitoring_ID, dtype: int64"
            ]
          },
          "metadata": {},
          "execution_count": 25
        }
      ]
    },
    {
      "cell_type": "code",
      "source": [
        "fig, ax = plt.subplots(figsize=(7,5))\n",
        "ax= sns.countplot(x=\"Monitoring_ID\", data=df);"
      ],
      "metadata": {
        "colab": {
          "base_uri": "https://localhost:8080/",
          "height": 335
        },
        "id": "Ri23y9OmpbQK",
        "outputId": "099a622a-1aa2-432b-c6cb-ccbd49008ac1"
      },
      "execution_count": null,
      "outputs": [
        {
          "output_type": "display_data",
          "data": {
            "text/plain": [
              "<Figure size 504x360 with 1 Axes>"
            ],
            "image/png": "[encoded data removed]"
          },
          "metadata": {}
        }
      ]
    },
    {
      "cell_type": "markdown",
      "source": [
        "##'Has Description?'"
      ],
      "metadata": {
        "id": "rLpjt93bPax6"
      }
    },
    {
      "cell_type": "code",
      "source": [
        "df['Description'].value_counts(dropna=False)"
      ],
      "metadata": {
        "colab": {
          "base_uri": "https://localhost:8080/"
        },
        "id": "TXXsnk7gPdo-",
        "outputId": "b3afcaef-4244-45de-adcc-63497a5e8366"
      },
      "execution_count": null,
      "outputs": [
        {
          "output_type": "execute_result",
          "data": {
            "text/plain": [
              "Has Description        3362\n",
              "Description Missing     714\n",
              "Name: Description, dtype: int64"
            ]
          },
          "metadata": {},
          "execution_count": 27
        }
      ]
    },
    {
      "cell_type": "code",
      "source": [
        "fig, ax = plt.subplots(figsize=(7, 5))\n",
        "ax= sns.countplot(x='Description', data=df);"
      ],
      "metadata": {
        "colab": {
          "base_uri": "https://localhost:8080/",
          "height": 335
        },
        "id": "8CUMlHorpnow",
        "outputId": "8e30ef0e-ef1f-4293-b39d-e6b0f7c98f32"
      },
      "execution_count": null,
      "outputs": [
        {
          "output_type": "display_data",
          "data": {
            "text/plain": [
              "<Figure size 504x360 with 1 Axes>"
            ],
            "image/png": "[encoded data removed]"
          },
          "metadata": {}
        }
      ]
    },
    {
      "cell_type": "markdown",
      "source": [
        "#'Location?'"
      ],
      "metadata": {
        "id": "ToY2_5u4PuDw"
      }
    },
    {
      "cell_type": "code",
      "source": [
        "df['Location'].value_counts(dropna=False)"
      ],
      "metadata": {
        "colab": {
          "base_uri": "https://localhost:8080/"
        },
        "id": "ZwnfinesPR2n",
        "outputId": "70df3031-5187-4854-e295-4421a5d23231"
      },
      "execution_count": null,
      "outputs": [
        {
          "output_type": "execute_result",
          "data": {
            "text/plain": [
              "No Location           2039\n",
              "Location Specified    2037\n",
              "Name: Location, dtype: int64"
            ]
          },
          "metadata": {},
          "execution_count": 29
        }
      ]
    },
    {
      "cell_type": "code",
      "source": [
        "fig, ax = plt.subplots(figsize=(7, 5))\n",
        "ax= sns.countplot(x='Location', data=df);"
      ],
      "metadata": {
        "colab": {
          "base_uri": "https://localhost:8080/",
          "height": 334
        },
        "id": "gBRAbREWp80s",
        "outputId": "4fa7ddf4-c472-4a5a-a3fa-068bc65c13d9"
      },
      "execution_count": null,
      "outputs": [
        {
          "output_type": "display_data",
          "data": {
            "text/plain": [
              "<Figure size 504x360 with 1 Axes>"
            ],
            "image/png": "[encoded data removed]"
          },
          "metadata": {}
        }
      ]
    },
    {
      "cell_type": "markdown",
      "metadata": {
        "id": "3pS9tg0KI82U"
      },
      "source": [
        "## 'Comments'"
      ]
    },
    {
      "cell_type": "code",
      "source": [
        "df['Comments'].value_counts(dropna=False)"
      ],
      "metadata": {
        "colab": {
          "base_uri": "https://localhost:8080/"
        },
        "id": "OMLBFqSRQXma",
        "outputId": "e8c642fe-75d4-4d98-b059-12265e1f5bba"
      },
      "execution_count": null,
      "outputs": [
        {
          "output_type": "execute_result",
          "data": {
            "text/plain": [
              "Comments Disabled    2469\n",
              "Comments Enabled     1607\n",
              "Name: Comments, dtype: int64"
            ]
          },
          "metadata": {},
          "execution_count": 31
        }
      ]
    },
    {
      "cell_type": "code",
      "source": [
        "fig, ax = plt.subplots(figsize=(7, 5))\n",
        "ax= sns.countplot(x='Comments', data=df);"
      ],
      "metadata": {
        "colab": {
          "base_uri": "https://localhost:8080/",
          "height": 334
        },
        "id": "jRBEzghSqEra",
        "outputId": "ea0977fd-02d0-4ffc-8065-192241de95f8"
      },
      "execution_count": null,
      "outputs": [
        {
          "output_type": "display_data",
          "data": {
            "text/plain": [
              "<Figure size 504x360 with 1 Axes>"
            ],
            "image/png": "[encoded data removed]"
          },
          "metadata": {}
        }
      ]
    },
    {
      "cell_type": "markdown",
      "metadata": {
        "id": "CCoMnTzVI82V"
      },
      "source": [
        "## 'Scan Date'"
      ]
    },
    {
      "cell_type": "code",
      "execution_count": null,
      "metadata": {
        "colab": {
          "base_uri": "https://localhost:8080/"
        },
        "id": "PDPmur7RI82Z",
        "outputId": "421f7b0e-edb7-444b-9e75-47bbfd2794c9"
      },
      "outputs": [
        {
          "output_type": "execute_result",
          "data": {
            "text/plain": [
              "2021-03-05    2059\n",
              "2021-02-16    2017\n",
              "Name: Scan_Date, dtype: int64"
            ]
          },
          "metadata": {},
          "execution_count": 33
        }
      ],
      "source": [
        "df['Scan_Date'].value_counts(dropna=False)\n",
        "# Data includes values from date \"2021-03-05\" and \"2021-02-16\" "
      ]
    },
    {
      "cell_type": "code",
      "source": [
        "df[\"Scan_Date\"].dt.month_name()"
      ],
      "metadata": {
        "colab": {
          "base_uri": "https://localhost:8080/"
        },
        "id": "CTVtvuU29xvy",
        "outputId": "17d3fd31-fce5-4878-f805-bfc56f45feda"
      },
      "execution_count": null,
      "outputs": [
        {
          "output_type": "execute_result",
          "data": {
            "text/plain": [
              "0       February\n",
              "1          March\n",
              "2       February\n",
              "3          March\n",
              "4       February\n",
              "          ...   \n",
              "4071       March\n",
              "4072    February\n",
              "4073       March\n",
              "4074    February\n",
              "4075       March\n",
              "Name: Scan_Date, Length: 4076, dtype: object"
            ]
          },
          "metadata": {},
          "execution_count": 34
        }
      ]
    },
    {
      "cell_type": "code",
      "source": [
        "df[\"Scan_Month_of_2021\"]=df[\"Scan_Date\"].dt.month_name()\n",
        "#I have added another columns to the data set since the data tracking is based on month"
      ],
      "metadata": {
        "id": "7SItXBWbSJG4"
      },
      "execution_count": null,
      "outputs": []
    },
    {
      "cell_type": "code",
      "source": [
        "fig, ax = plt.subplots(figsize=(7, 5))\n",
        "ax= sns.countplot(x=\"Scan_Month_of_2021\", data=df);"
      ],
      "metadata": {
        "colab": {
          "base_uri": "https://localhost:8080/",
          "height": 335
        },
        "id": "DGZsq8EOqsIO",
        "outputId": "08892344-d17e-480e-b970-8d8e18ee1537"
      },
      "execution_count": null,
      "outputs": [
        {
          "output_type": "display_data",
          "data": {
            "text/plain": [
              "<Figure size 504x360 with 1 Axes>"
            ],
            "image/png": "[encoded data removed]"
          },
          "metadata": {}
        }
      ]
    },
    {
      "cell_type": "code",
      "source": [
        "#df[\"Scan Year\"]=df[\"Scan Date\"].dt.year"
      ],
      "metadata": {
        "id": "HQ1dUNwcShj4"
      },
      "execution_count": null,
      "outputs": []
    },
    {
      "cell_type": "code",
      "source": [
        "#df[\"Scan_Day\"]=df[\"Scan Date\"].dt.day"
      ],
      "metadata": {
        "id": "f53PUJGXSpSI"
      },
      "execution_count": null,
      "outputs": []
    },
    {
      "cell_type": "code",
      "source": [
        "df"
      ],
      "metadata": {
        "colab": {
          "base_uri": "https://localhost:8080/",
          "height": 782
        },
        "id": "EC136hGsQxUu",
        "outputId": "df1210f3-ac9d-41bb-f326-f57570bd0150"
      },
      "execution_count": null,
      "outputs": [
        {
          "output_type": "execute_result",
          "data": {
            "text/plain": [
              "            Brand    Market                      Title  \\\n",
              "0          AVEENO    Canada              Aveeno Canada   \n",
              "1          AVEENO    Canada              Aveeno Canada   \n",
              "2        CAREFREE  Colombia         ¡Nos pasa a todas!   \n",
              "3        CAREFREE  Colombia         ¡Nos pasa a todas!   \n",
              "4     CLEAN&CLEAR    Canada       Clean & Clear Canada   \n",
              "...           ...       ...                        ...   \n",
              "4071      TYLENOL    Mexico             Tylenol México   \n",
              "4072      TYLENOL  Thailand  Tylenol Thailand Thailand   \n",
              "4073      TYLENOL  Thailand  Tylenol Thailand Thailand   \n",
              "4074      TYLENOL  Thailand  Tylenol Thailand Thailand   \n",
              "4075      TYLENOL  Thailand  Tylenol Thailand Thailand   \n",
              "\n",
              "                            Video_URL    Views Monitoring_ID  \\\n",
              "0     youtube.com/watch?v=EaY-IoTqfWQ    22374     IDM 02688   \n",
              "1     youtube.com/watch?v=EaY-IoTqfWQ    22374     IDM 02688   \n",
              "2     youtube.com/watch?v=MUF62kJ8_p0   119973     IDM 02688   \n",
              "3     youtube.com/watch?v=MUF62kJ8_p0   119973     IDM 02688   \n",
              "4     youtube.com/watch?v=5qL9DU9SrtM    36901     IDM 02688   \n",
              "...                               ...      ...           ...   \n",
              "4071  youtube.com/watch?v=tKIsynzmlCY  1276724        No IDM   \n",
              "4072  youtube.com/watch?v=F9pN9FfywLs     2337        No IDM   \n",
              "4073  youtube.com/watch?v=F9pN9FfywLs     2337        No IDM   \n",
              "4074  youtube.com/watch?v=hGhJXY_ArCI  3764551        No IDM   \n",
              "4075  youtube.com/watch?v=hGhJXY_ArCI  3764551        No IDM   \n",
              "\n",
              "              Description            Location          Comments  Scan_Date  \\\n",
              "0         Has Description  Location Specified  Comments Enabled 2021-02-16   \n",
              "1         Has Description  Location Specified  Comments Enabled 2021-03-05   \n",
              "2         Has Description  Location Specified  Comments Enabled 2021-02-16   \n",
              "3         Has Description  Location Specified  Comments Enabled 2021-03-05   \n",
              "4         Has Description         No Location  Comments Enabled 2021-02-16   \n",
              "...                   ...                 ...               ...        ...   \n",
              "4071      Has Description  Location Specified  Comments Enabled 2021-03-05   \n",
              "4072  Description Missing         No Location  Comments Enabled 2021-02-16   \n",
              "4073  Description Missing         No Location  Comments Enabled 2021-03-05   \n",
              "4074      Has Description         No Location  Comments Enabled 2021-02-16   \n",
              "4075      Has Description         No Location  Comments Enabled 2021-03-05   \n",
              "\n",
              "     Scan_Month_of_2021  \n",
              "0              February  \n",
              "1                 March  \n",
              "2              February  \n",
              "3                 March  \n",
              "4              February  \n",
              "...                 ...  \n",
              "4071              March  \n",
              "4072           February  \n",
              "4073              March  \n",
              "4074           February  \n",
              "4075              March  \n",
              "\n",
              "[4076 rows x 11 columns]"
            ],
            "text/html": [
              "\n",
              "  <div id=\"df-0fa1d226-e591-46c8-bf01-ee4c4f9990a3\">\n",
              "    <div class=\"colab-df-container\">\n",
              "      <div>\n",
              "<style scoped>\n",
              "    .dataframe tbody tr th:only-of-type {\n",
              "        vertical-align: middle;\n",
              "    }\n",
              "\n",
              "    .dataframe tbody tr th {\n",
              "        vertical-align: top;\n",
              "    }\n",
              "\n",
              "    .dataframe thead th {\n",
              "        text-align: right;\n",
              "    }\n",
              "</style>\n",
              "<table border=\"1\" class=\"dataframe\">\n",
              "  <thead>\n",
              "    <tr style=\"text-align: right;\">\n",
              "      <th></th>\n",
              "      <th>Brand</th>\n",
              "      <th>Market</th>\n",
              "      <th>Title</th>\n",
              "      <th>Video_URL</th>\n",
              "      <th>Views</th>\n",
              "      <th>Monitoring_ID</th>\n",
              "      <th>Description</th>\n",
              "      <th>Location</th>\n",
              "      <th>Comments</th>\n",
              "      <th>Scan_Date</th>\n",
              "      <th>Scan_Month_of_2021</th>\n",
              "    </tr>\n",
              "  </thead>\n",
              "  <tbody>\n",
              "    <tr>\n",
              "      <th>0</th>\n",
              "      <td>AVEENO</td>\n",
              "      <td>Canada</td>\n",
              "      <td>Aveeno Canada</td>\n",
              "      <td>youtube.com/watch?v=EaY-IoTqfWQ</td>\n",
              "      <td>22374</td>\n",
              "      <td>IDM 02688</td>\n",
              "      <td>Has Description</td>\n",
              "      <td>Location Specified</td>\n",
              "      <td>Comments Enabled</td>\n",
              "      <td>2021-02-16</td>\n",
              "      <td>February</td>\n",
              "    </tr>\n",
              "    <tr>\n",
              "      <th>1</th>\n",
              "      <td>AVEENO</td>\n",
              "      <td>Canada</td>\n",
              "      <td>Aveeno Canada</td>\n",
              "      <td>youtube.com/watch?v=EaY-IoTqfWQ</td>\n",
              "      <td>22374</td>\n",
              "      <td>IDM 02688</td>\n",
              "      <td>Has Description</td>\n",
              "      <td>Location Specified</td>\n",
              "      <td>Comments Enabled</td>\n",
              "      <td>2021-03-05</td>\n",
              "      <td>March</td>\n",
              "    </tr>\n",
              "    <tr>\n",
              "      <th>2</th>\n",
              "      <td>CAREFREE</td>\n",
              "      <td>Colombia</td>\n",
              "      <td>¡Nos pasa a todas!</td>\n",
              "      <td>youtube.com/watch?v=MUF62kJ8_p0</td>\n",
              "      <td>119973</td>\n",
              "      <td>IDM 02688</td>\n",
              "      <td>Has Description</td>\n",
              "      <td>Location Specified</td>\n",
              "      <td>Comments Enabled</td>\n",
              "      <td>2021-02-16</td>\n",
              "      <td>February</td>\n",
              "    </tr>\n",
              "    <tr>\n",
              "      <th>3</th>\n",
              "      <td>CAREFREE</td>\n",
              "      <td>Colombia</td>\n",
              "      <td>¡Nos pasa a todas!</td>\n",
              "      <td>youtube.com/watch?v=MUF62kJ8_p0</td>\n",
              "      <td>119973</td>\n",
              "      <td>IDM 02688</td>\n",
              "      <td>Has Description</td>\n",
              "      <td>Location Specified</td>\n",
              "      <td>Comments Enabled</td>\n",
              "      <td>2021-03-05</td>\n",
              "      <td>March</td>\n",
              "    </tr>\n",
              "    <tr>\n",
              "      <th>4</th>\n",
              "      <td>CLEAN&amp;CLEAR</td>\n",
              "      <td>Canada</td>\n",
              "      <td>Clean &amp; Clear Canada</td>\n",
              "      <td>youtube.com/watch?v=5qL9DU9SrtM</td>\n",
              "      <td>36901</td>\n",
              "      <td>IDM 02688</td>\n",
              "      <td>Has Description</td>\n",
              "      <td>No Location</td>\n",
              "      <td>Comments Enabled</td>\n",
              "      <td>2021-02-16</td>\n",
              "      <td>February</td>\n",
              "    </tr>\n",
              "    <tr>\n",
              "      <th>...</th>\n",
              "      <td>...</td>\n",
              "      <td>...</td>\n",
              "      <td>...</td>\n",
              "      <td>...</td>\n",
              "      <td>...</td>\n",
              "      <td>...</td>\n",
              "      <td>...</td>\n",
              "      <td>...</td>\n",
              "      <td>...</td>\n",
              "      <td>...</td>\n",
              "      <td>...</td>\n",
              "    </tr>\n",
              "    <tr>\n",
              "      <th>4071</th>\n",
              "      <td>TYLENOL</td>\n",
              "      <td>Mexico</td>\n",
              "      <td>Tylenol México</td>\n",
              "      <td>youtube.com/watch?v=tKIsynzmlCY</td>\n",
              "      <td>1276724</td>\n",
              "      <td>No IDM</td>\n",
              "      <td>Has Description</td>\n",
              "      <td>Location Specified</td>\n",
              "      <td>Comments Enabled</td>\n",
              "      <td>2021-03-05</td>\n",
              "      <td>March</td>\n",
              "    </tr>\n",
              "    <tr>\n",
              "      <th>4072</th>\n",
              "      <td>TYLENOL</td>\n",
              "      <td>Thailand</td>\n",
              "      <td>Tylenol Thailand Thailand</td>\n",
              "      <td>youtube.com/watch?v=F9pN9FfywLs</td>\n",
              "      <td>2337</td>\n",
              "      <td>No IDM</td>\n",
              "      <td>Description Missing</td>\n",
              "      <td>No Location</td>\n",
              "      <td>Comments Enabled</td>\n",
              "      <td>2021-02-16</td>\n",
              "      <td>February</td>\n",
              "    </tr>\n",
              "    <tr>\n",
              "      <th>4073</th>\n",
              "      <td>TYLENOL</td>\n",
              "      <td>Thailand</td>\n",
              "      <td>Tylenol Thailand Thailand</td>\n",
              "      <td>youtube.com/watch?v=F9pN9FfywLs</td>\n",
              "      <td>2337</td>\n",
              "      <td>No IDM</td>\n",
              "      <td>Description Missing</td>\n",
              "      <td>No Location</td>\n",
              "      <td>Comments Enabled</td>\n",
              "      <td>2021-03-05</td>\n",
              "      <td>March</td>\n",
              "    </tr>\n",
              "    <tr>\n",
              "      <th>4074</th>\n",
              "      <td>TYLENOL</td>\n",
              "      <td>Thailand</td>\n",
              "      <td>Tylenol Thailand Thailand</td>\n",
              "      <td>youtube.com/watch?v=hGhJXY_ArCI</td>\n",
              "      <td>3764551</td>\n",
              "      <td>No IDM</td>\n",
              "      <td>Has Description</td>\n",
              "      <td>No Location</td>\n",
              "      <td>Comments Enabled</td>\n",
              "      <td>2021-02-16</td>\n",
              "      <td>February</td>\n",
              "    </tr>\n",
              "    <tr>\n",
              "      <th>4075</th>\n",
              "      <td>TYLENOL</td>\n",
              "      <td>Thailand</td>\n",
              "      <td>Tylenol Thailand Thailand</td>\n",
              "      <td>youtube.com/watch?v=hGhJXY_ArCI</td>\n",
              "      <td>3764551</td>\n",
              "      <td>No IDM</td>\n",
              "      <td>Has Description</td>\n",
              "      <td>No Location</td>\n",
              "      <td>Comments Enabled</td>\n",
              "      <td>2021-03-05</td>\n",
              "      <td>March</td>\n",
              "    </tr>\n",
              "  </tbody>\n",
              "</table>\n",
              "<p>4076 rows × 11 columns</p>\n",
              "</div>\n",
              "      <button class=\"colab-df-convert\" onclick=\"convertToInteractive('df-0fa1d226-e591-46c8-bf01-ee4c4f9990a3')\"\n",
              "              title=\"Convert this dataframe to an interactive table.\"\n",
              "              style=\"display:none;\">\n",
              "        \n",
              "  <svg xmlns=\"http://www.w3.org/2000/svg\" height=\"24px\"viewBox=\"0 0 24 24\"\n",
              "       width=\"24px\">\n",
              "    <path d=\"M0 0h24v24H0V0z\" fill=\"none\"/>\n",
              "    <path d=\"M18.56 5.44l.94 2.06.94-2.06 2.06-.94-2.06-.94-.94-2.06-.94 2.06-2.06.94zm-11 1L8.5 8.5l.94-2.06 2.06-.94-2.06-.94L8.5 2.5l-.94 2.06-2.06.94zm10 10l.94 2.06.94-2.06 2.06-.94-2.06-.94-.94-2.06-.94 2.06-2.06.94z\"/><path d=\"M17.41 7.96l-1.37-1.37c-.4-.4-.92-.59-1.43-.59-.52 0-1.04.2-1.43.59L10.3 9.45l-7.72 7.72c-.78.78-.78 2.05 0 2.83L4 21.41c.39.39.9.59 1.41.59.51 0 1.02-.2 1.41-.59l7.78-7.78 2.81-2.81c.8-.78.8-2.07 0-2.86zM5.41 20L4 18.59l7.72-7.72 1.47 1.35L5.41 20z\"/>\n",
              "  </svg>\n",
              "      </button>\n",
              "      \n",
              "  <style>\n",
              "    .colab-df-container {\n",
              "      display:flex;\n",
              "      flex-wrap:wrap;\n",
              "      gap: 12px;\n",
              "    }\n",
              "\n",
              "    .colab-df-convert {\n",
              "      background-color: #E8F0FE;\n",
              "      border: none;\n",
              "      border-radius: 50%;\n",
              "      cursor: pointer;\n",
              "      display: none;\n",
              "      fill: #1967D2;\n",
              "      height: 32px;\n",
              "      padding: 0 0 0 0;\n",
              "      width: 32px;\n",
              "    }\n",
              "\n",
              "    .colab-df-convert:hover {\n",
              "      background-color: #E2EBFA;\n",
              "      box-shadow: 0px 1px 2px rgba(60, 64, 67, 0.3), 0px 1px 3px 1px rgba(60, 64, 67, 0.15);\n",
              "      fill: #174EA6;\n",
              "    }\n",
              "\n",
              "    [theme=dark] .colab-df-convert {\n",
              "      background-color: #3B4455;\n",
              "      fill: #D2E3FC;\n",
              "    }\n",
              "\n",
              "    [theme=dark] .colab-df-convert:hover {\n",
              "      background-color: #434B5C;\n",
              "      box-shadow: 0px 1px 3px 1px rgba(0, 0, 0, 0.15);\n",
              "      filter: drop-shadow(0px 1px 2px rgba(0, 0, 0, 0.3));\n",
              "      fill: #FFFFFF;\n",
              "    }\n",
              "  </style>\n",
              "\n",
              "      <script>\n",
              "        const buttonEl =\n",
              "          document.querySelector('#df-0fa1d226-e591-46c8-bf01-ee4c4f9990a3 button.colab-df-convert');\n",
              "        buttonEl.style.display =\n",
              "          google.colab.kernel.accessAllowed ? 'block' : 'none';\n",
              "\n",
              "        async function convertToInteractive(key) {\n",
              "          const element = document.querySelector('#df-0fa1d226-e591-46c8-bf01-ee4c4f9990a3');\n",
              "          const dataTable =\n",
              "            await google.colab.kernel.invokeFunction('convertToInteractive',\n",
              "                                                     [key], {});\n",
              "          if (!dataTable) return;\n",
              "\n",
              "          const docLinkHtml = 'Like what you see? Visit the ' +\n",
              "            '<a target=\"_blank\" href=https://colab.research.google.com/notebooks/data_table.ipynb>data table notebook</a>'\n",
              "            + ' to learn more about interactive tables.';\n",
              "          element.innerHTML = '';\n",
              "          dataTable['output_type'] = 'display_data';\n",
              "          await google.colab.output.renderOutput(dataTable, element);\n",
              "          const docLink = document.createElement('div');\n",
              "          docLink.innerHTML = docLinkHtml;\n",
              "          element.appendChild(docLink);\n",
              "        }\n",
              "      </script>\n",
              "    </div>\n",
              "  </div>\n",
              "  "
            ]
          },
          "metadata": {},
          "execution_count": 39
        }
      ]
    },
    {
      "cell_type": "code",
      "source": [
        "df.describe().T\n",
        "# The range for Views differ from 0 to 47958349"
      ],
      "metadata": {
        "colab": {
          "base_uri": "https://localhost:8080/",
          "height": 125
        },
        "id": "UZWkuMMITdYG",
        "outputId": "ebed47d7-aa79-43a8-f647-f8847674bb3e"
      },
      "execution_count": null,
      "outputs": [
        {
          "output_type": "execute_result",
          "data": {
            "text/plain": [
              "        count      mean        std  min    25%     50%       75%         max\n",
              "Views 4076.00 568825.21 2337659.00 0.00 396.00 3263.50 188984.00 47958349.00"
            ],
            "text/html": [
              "\n",
              "  <div id=\"df-0260af2d-ee36-44ee-8676-20349218d52b\">\n",
              "    <div class=\"colab-df-container\">\n",
              "      <div>\n",
              "<style scoped>\n",
              "    .dataframe tbody tr th:only-of-type {\n",
              "        vertical-align: middle;\n",
              "    }\n",
              "\n",
              "    .dataframe tbody tr th {\n",
              "        vertical-align: top;\n",
              "    }\n",
              "\n",
              "    .dataframe thead th {\n",
              "        text-align: right;\n",
              "    }\n",
              "</style>\n",
              "<table border=\"1\" class=\"dataframe\">\n",
              "  <thead>\n",
              "    <tr style=\"text-align: right;\">\n",
              "      <th></th>\n",
              "      <th>count</th>\n",
              "      <th>mean</th>\n",
              "      <th>std</th>\n",
              "      <th>min</th>\n",
              "      <th>25%</th>\n",
              "      <th>50%</th>\n",
              "      <th>75%</th>\n",
              "      <th>max</th>\n",
              "    </tr>\n",
              "  </thead>\n",
              "  <tbody>\n",
              "    <tr>\n",
              "      <th>Views</th>\n",
              "      <td>4076.00</td>\n",
              "      <td>568825.21</td>\n",
              "      <td>2337659.00</td>\n",
              "      <td>0.00</td>\n",
              "      <td>396.00</td>\n",
              "      <td>3263.50</td>\n",
              "      <td>188984.00</td>\n",
              "      <td>47958349.00</td>\n",
              "    </tr>\n",
              "  </tbody>\n",
              "</table>\n",
              "</div>\n",
              "      <button class=\"colab-df-convert\" onclick=\"convertToInteractive('df-0260af2d-ee36-44ee-8676-20349218d52b')\"\n",
              "              title=\"Convert this dataframe to an interactive table.\"\n",
              "              style=\"display:none;\">\n",
              "        \n",
              "  <svg xmlns=\"http://www.w3.org/2000/svg\" height=\"24px\"viewBox=\"0 0 24 24\"\n",
              "       width=\"24px\">\n",
              "    <path d=\"M0 0h24v24H0V0z\" fill=\"none\"/>\n",
              "    <path d=\"M18.56 5.44l.94 2.06.94-2.06 2.06-.94-2.06-.94-.94-2.06-.94 2.06-2.06.94zm-11 1L8.5 8.5l.94-2.06 2.06-.94-2.06-.94L8.5 2.5l-.94 2.06-2.06.94zm10 10l.94 2.06.94-2.06 2.06-.94-2.06-.94-.94-2.06-.94 2.06-2.06.94z\"/><path d=\"M17.41 7.96l-1.37-1.37c-.4-.4-.92-.59-1.43-.59-.52 0-1.04.2-1.43.59L10.3 9.45l-7.72 7.72c-.78.78-.78 2.05 0 2.83L4 21.41c.39.39.9.59 1.41.59.51 0 1.02-.2 1.41-.59l7.78-7.78 2.81-2.81c.8-.78.8-2.07 0-2.86zM5.41 20L4 18.59l7.72-7.72 1.47 1.35L5.41 20z\"/>\n",
              "  </svg>\n",
              "      </button>\n",
              "      \n",
              "  <style>\n",
              "    .colab-df-container {\n",
              "      display:flex;\n",
              "      flex-wrap:wrap;\n",
              "      gap: 12px;\n",
              "    }\n",
              "\n",
              "    .colab-df-convert {\n",
              "      background-color: #E8F0FE;\n",
              "      border: none;\n",
              "      border-radius: 50%;\n",
              "      cursor: pointer;\n",
              "      display: none;\n",
              "      fill: #1967D2;\n",
              "      height: 32px;\n",
              "      padding: 0 0 0 0;\n",
              "      width: 32px;\n",
              "    }\n",
              "\n",
              "    .colab-df-convert:hover {\n",
              "      background-color: #E2EBFA;\n",
              "      box-shadow: 0px 1px 2px rgba(60, 64, 67, 0.3), 0px 1px 3px 1px rgba(60, 64, 67, 0.15);\n",
              "      fill: #174EA6;\n",
              "    }\n",
              "\n",
              "    [theme=dark] .colab-df-convert {\n",
              "      background-color: #3B4455;\n",
              "      fill: #D2E3FC;\n",
              "    }\n",
              "\n",
              "    [theme=dark] .colab-df-convert:hover {\n",
              "      background-color: #434B5C;\n",
              "      box-shadow: 0px 1px 3px 1px rgba(0, 0, 0, 0.15);\n",
              "      filter: drop-shadow(0px 1px 2px rgba(0, 0, 0, 0.3));\n",
              "      fill: #FFFFFF;\n",
              "    }\n",
              "  </style>\n",
              "\n",
              "      <script>\n",
              "        const buttonEl =\n",
              "          document.querySelector('#df-0260af2d-ee36-44ee-8676-20349218d52b button.colab-df-convert');\n",
              "        buttonEl.style.display =\n",
              "          google.colab.kernel.accessAllowed ? 'block' : 'none';\n",
              "\n",
              "        async function convertToInteractive(key) {\n",
              "          const element = document.querySelector('#df-0260af2d-ee36-44ee-8676-20349218d52b');\n",
              "          const dataTable =\n",
              "            await google.colab.kernel.invokeFunction('convertToInteractive',\n",
              "                                                     [key], {});\n",
              "          if (!dataTable) return;\n",
              "\n",
              "          const docLinkHtml = 'Like what you see? Visit the ' +\n",
              "            '<a target=\"_blank\" href=https://colab.research.google.com/notebooks/data_table.ipynb>data table notebook</a>'\n",
              "            + ' to learn more about interactive tables.';\n",
              "          element.innerHTML = '';\n",
              "          dataTable['output_type'] = 'display_data';\n",
              "          await google.colab.output.renderOutput(dataTable, element);\n",
              "          const docLink = document.createElement('div');\n",
              "          docLink.innerHTML = docLinkHtml;\n",
              "          element.appendChild(docLink);\n",
              "        }\n",
              "      </script>\n",
              "    </div>\n",
              "  </div>\n",
              "  "
            ]
          },
          "metadata": {},
          "execution_count": 40
        }
      ]
    },
    {
      "cell_type": "markdown",
      "metadata": {
        "id": "YL-qMUx2I82b"
      },
      "source": [
        "## Box Plot for Views"
      ]
    },
    {
      "cell_type": "code",
      "execution_count": null,
      "metadata": {
        "colab": {
          "base_uri": "https://localhost:8080/"
        },
        "id": "B6S9QClhI82c",
        "outputId": "cc10abc1-3adf-43fb-f650-34b430c6324c"
      },
      "outputs": [
        {
          "output_type": "execute_result",
          "data": {
            "text/plain": [
              "6          18\n",
              "4          16\n",
              "26         16\n",
              "5          14\n",
              "7          14\n",
              "           ..\n",
              "132942      1\n",
              "119863      1\n",
              "71324       1\n",
              "424941      1\n",
              "1225893     1\n",
              "Name: Views, Length: 1730, dtype: int64"
            ]
          },
          "metadata": {},
          "execution_count": 41
        }
      ],
      "source": [
        "df.Views.value_counts(dropna=False)"
      ]
    },
    {
      "cell_type": "code",
      "execution_count": null,
      "metadata": {
        "colab": {
          "base_uri": "https://localhost:8080/",
          "height": 388
        },
        "id": "pV_B8wiCI82d",
        "outputId": "d9df8b2d-7c22-4cc0-cf1c-73e7bf9815ba"
      },
      "outputs": [
        {
          "output_type": "display_data",
          "data": {
            "text/plain": [
              "<Figure size 720x432 with 1 Axes>"
            ],
            "image/png": "[encoded data removed]"
          },
          "metadata": {}
        }
      ],
      "source": [
        "sns.boxplot(df.Views);\n",
        "# From the boxplot it seems there are outliers but in fact this may be normal for social media interactions."
      ]
    },
    {
      "cell_type": "code",
      "execution_count": null,
      "metadata": {
        "colab": {
          "base_uri": "https://localhost:8080/",
          "height": 399
        },
        "id": "Lbb1Y_7_I82e",
        "outputId": "095d9825-79ec-484e-934c-215ac4a2f60f"
      },
      "outputs": [
        {
          "output_type": "display_data",
          "data": {
            "text/plain": [
              "<Figure size 720x432 with 1 Axes>"
            ],
            "image/png": "[encoded data removed]"
          },
          "metadata": {}
        }
      ],
      "source": [
        "sns.distplot(df.Views);"
      ]
    },
    {
      "cell_type": "markdown",
      "source": [
        "#Missing Values"
      ],
      "metadata": {
        "id": "i88tZcezZPST"
      }
    },
    {
      "cell_type": "code",
      "source": [
        "df.isnull().sum()"
      ],
      "metadata": {
        "colab": {
          "base_uri": "https://localhost:8080/"
        },
        "id": "C_aO16nCZTH3",
        "outputId": "8ded5e0a-7118-4c15-fd54-4a4e63d2e5ec"
      },
      "execution_count": null,
      "outputs": [
        {
          "output_type": "execute_result",
          "data": {
            "text/plain": [
              "Brand                    0\n",
              "Market                   0\n",
              "Title                    0\n",
              "Video_URL                0\n",
              "Views                    0\n",
              "Monitoring_ID         2469\n",
              "Description              0\n",
              "Location                 0\n",
              "Comments                 0\n",
              "Scan_Date                0\n",
              "Scan_Month_of_2021       0\n",
              "dtype: int64"
            ]
          },
          "metadata": {},
          "execution_count": 44
        }
      ]
    },
    {
      "cell_type": "code",
      "source": [
        "df[\"Monitoring_ID\"].value_counts(dropna=False)"
      ],
      "metadata": {
        "colab": {
          "base_uri": "https://localhost:8080/"
        },
        "id": "cGoUcGpLZYhT",
        "outputId": "1524de6b-b009-48ea-c771-da65b604657d"
      },
      "execution_count": null,
      "outputs": [
        {
          "output_type": "execute_result",
          "data": {
            "text/plain": [
              "NaN          2469\n",
              "No IDM       1591\n",
              "IDM 02688      16\n",
              "Name: Monitoring_ID, dtype: int64"
            ]
          },
          "metadata": {},
          "execution_count": 45
        }
      ]
    },
    {
      "cell_type": "code",
      "source": [
        "#Only 16 values are entered for this column, others are either Nan values or No IDM values.\n",
        "#This column will not give me any insigts"
      ],
      "metadata": {
        "id": "9qmnYDyCaSee"
      },
      "execution_count": null,
      "outputs": []
    },
    {
      "cell_type": "code",
      "source": [
        "df = df.drop(\"Monitoring_ID\",axis=1)"
      ],
      "metadata": {
        "id": "ev9qzKaDkaIA"
      },
      "execution_count": null,
      "outputs": []
    },
    {
      "cell_type": "code",
      "source": [
        "df.info()"
      ],
      "metadata": {
        "colab": {
          "base_uri": "https://localhost:8080/"
        },
        "id": "94dc_KWibowe",
        "outputId": "e2c134d4-df38-41ed-8731-3ee2e5d503fa"
      },
      "execution_count": null,
      "outputs": [
        {
          "output_type": "stream",
          "name": "stdout",
          "text": [
            "<class 'pandas.core.frame.DataFrame'>\n",
            "RangeIndex: 4076 entries, 0 to 4075\n",
            "Data columns (total 10 columns):\n",
            " #   Column              Non-Null Count  Dtype         \n",
            "---  ------              --------------  -----         \n",
            " 0   Brand               4076 non-null   object        \n",
            " 1   Market              4076 non-null   object        \n",
            " 2   Title               4076 non-null   object        \n",
            " 3   Video_URL           4076 non-null   object        \n",
            " 4   Views               4076 non-null   int64         \n",
            " 5   Description         4076 non-null   object        \n",
            " 6   Location            4076 non-null   object        \n",
            " 7   Comments            4076 non-null   object        \n",
            " 8   Scan_Date           4076 non-null   datetime64[ns]\n",
            " 9   Scan_Month_of_2021  4076 non-null   object        \n",
            "dtypes: datetime64[ns](1), int64(1), object(8)\n",
            "memory usage: 318.6+ KB\n"
          ]
        }
      ]
    },
    {
      "cell_type": "code",
      "source": [
        "df.select_dtypes(include=\"object\").describe()"
      ],
      "metadata": {
        "colab": {
          "base_uri": "https://localhost:8080/",
          "height": 291
        },
        "id": "eAMVj9QkdD-P",
        "outputId": "96add72c-6a17-4ccb-ed24-216740a7d1cf"
      },
      "execution_count": null,
      "outputs": [
        {
          "output_type": "execute_result",
          "data": {
            "text/plain": [
              "         Brand  Market                          Title  \\\n",
              "count     4076    4076                           4076   \n",
              "unique      24      39                             94   \n",
              "top     ACUVUE  Canada  TYLENOL® Canada Brand Channel   \n",
              "freq       759     572                            250   \n",
              "\n",
              "                              Video_URL      Description     Location  \\\n",
              "count                              4076             4076         4076   \n",
              "unique                             2059                2            2   \n",
              "top     youtube.com/watch?v=EaY-IoTqfWQ  Has Description  No Location   \n",
              "freq                                  2             3362         2039   \n",
              "\n",
              "                 Comments Scan_Month_of_2021  \n",
              "count                4076               4076  \n",
              "unique                  2                  2  \n",
              "top     Comments Disabled              March  \n",
              "freq                 2469               2059  "
            ],
            "text/html": [
              "\n",
              "  <div id=\"df-b1f9740a-f0ff-4919-9eb4-4f617240bad1\">\n",
              "    <div class=\"colab-df-container\">\n",
              "      <div>\n",
              "<style scoped>\n",
              "    .dataframe tbody tr th:only-of-type {\n",
              "        vertical-align: middle;\n",
              "    }\n",
              "\n",
              "    .dataframe tbody tr th {\n",
              "        vertical-align: top;\n",
              "    }\n",
              "\n",
              "    .dataframe thead th {\n",
              "        text-align: right;\n",
              "    }\n",
              "</style>\n",
              "<table border=\"1\" class=\"dataframe\">\n",
              "  <thead>\n",
              "    <tr style=\"text-align: right;\">\n",
              "      <th></th>\n",
              "      <th>Brand</th>\n",
              "      <th>Market</th>\n",
              "      <th>Title</th>\n",
              "      <th>Video_URL</th>\n",
              "      <th>Description</th>\n",
              "      <th>Location</th>\n",
              "      <th>Comments</th>\n",
              "      <th>Scan_Month_of_2021</th>\n",
              "    </tr>\n",
              "  </thead>\n",
              "  <tbody>\n",
              "    <tr>\n",
              "      <th>count</th>\n",
              "      <td>4076</td>\n",
              "      <td>4076</td>\n",
              "      <td>4076</td>\n",
              "      <td>4076</td>\n",
              "      <td>4076</td>\n",
              "      <td>4076</td>\n",
              "      <td>4076</td>\n",
              "      <td>4076</td>\n",
              "    </tr>\n",
              "    <tr>\n",
              "      <th>unique</th>\n",
              "      <td>24</td>\n",
              "      <td>39</td>\n",
              "      <td>94</td>\n",
              "      <td>2059</td>\n",
              "      <td>2</td>\n",
              "      <td>2</td>\n",
              "      <td>2</td>\n",
              "      <td>2</td>\n",
              "    </tr>\n",
              "    <tr>\n",
              "      <th>top</th>\n",
              "      <td>ACUVUE</td>\n",
              "      <td>Canada</td>\n",
              "      <td>TYLENOL® Canada Brand Channel</td>\n",
              "      <td>youtube.com/watch?v=EaY-IoTqfWQ</td>\n",
              "      <td>Has Description</td>\n",
              "      <td>No Location</td>\n",
              "      <td>Comments Disabled</td>\n",
              "      <td>March</td>\n",
              "    </tr>\n",
              "    <tr>\n",
              "      <th>freq</th>\n",
              "      <td>759</td>\n",
              "      <td>572</td>\n",
              "      <td>250</td>\n",
              "      <td>2</td>\n",
              "      <td>3362</td>\n",
              "      <td>2039</td>\n",
              "      <td>2469</td>\n",
              "      <td>2059</td>\n",
              "    </tr>\n",
              "  </tbody>\n",
              "</table>\n",
              "</div>\n",
              "      <button class=\"colab-df-convert\" onclick=\"convertToInteractive('df-b1f9740a-f0ff-4919-9eb4-4f617240bad1')\"\n",
              "              title=\"Convert this dataframe to an interactive table.\"\n",
              "              style=\"display:none;\">\n",
              "        \n",
              "  <svg xmlns=\"http://www.w3.org/2000/svg\" height=\"24px\"viewBox=\"0 0 24 24\"\n",
              "       width=\"24px\">\n",
              "    <path d=\"M0 0h24v24H0V0z\" fill=\"none\"/>\n",
              "    <path d=\"M18.56 5.44l.94 2.06.94-2.06 2.06-.94-2.06-.94-.94-2.06-.94 2.06-2.06.94zm-11 1L8.5 8.5l.94-2.06 2.06-.94-2.06-.94L8.5 2.5l-.94 2.06-2.06.94zm10 10l.94 2.06.94-2.06 2.06-.94-2.06-.94-.94-2.06-.94 2.06-2.06.94z\"/><path d=\"M17.41 7.96l-1.37-1.37c-.4-.4-.92-.59-1.43-.59-.52 0-1.04.2-1.43.59L10.3 9.45l-7.72 7.72c-.78.78-.78 2.05 0 2.83L4 21.41c.39.39.9.59 1.41.59.51 0 1.02-.2 1.41-.59l7.78-7.78 2.81-2.81c.8-.78.8-2.07 0-2.86zM5.41 20L4 18.59l7.72-7.72 1.47 1.35L5.41 20z\"/>\n",
              "  </svg>\n",
              "      </button>\n",
              "      \n",
              "  <style>\n",
              "    .colab-df-container {\n",
              "      display:flex;\n",
              "      flex-wrap:wrap;\n",
              "      gap: 12px;\n",
              "    }\n",
              "\n",
              "    .colab-df-convert {\n",
              "      background-color: #E8F0FE;\n",
              "      border: none;\n",
              "      border-radius: 50%;\n",
              "      cursor: pointer;\n",
              "      display: none;\n",
              "      fill: #1967D2;\n",
              "      height: 32px;\n",
              "      padding: 0 0 0 0;\n",
              "      width: 32px;\n",
              "    }\n",
              "\n",
              "    .colab-df-convert:hover {\n",
              "      background-color: #E2EBFA;\n",
              "      box-shadow: 0px 1px 2px rgba(60, 64, 67, 0.3), 0px 1px 3px 1px rgba(60, 64, 67, 0.15);\n",
              "      fill: #174EA6;\n",
              "    }\n",
              "\n",
              "    [theme=dark] .colab-df-convert {\n",
              "      background-color: #3B4455;\n",
              "      fill: #D2E3FC;\n",
              "    }\n",
              "\n",
              "    [theme=dark] .colab-df-convert:hover {\n",
              "      background-color: #434B5C;\n",
              "      box-shadow: 0px 1px 3px 1px rgba(0, 0, 0, 0.15);\n",
              "      filter: drop-shadow(0px 1px 2px rgba(0, 0, 0, 0.3));\n",
              "      fill: #FFFFFF;\n",
              "    }\n",
              "  </style>\n",
              "\n",
              "      <script>\n",
              "        const buttonEl =\n",
              "          document.querySelector('#df-b1f9740a-f0ff-4919-9eb4-4f617240bad1 button.colab-df-convert');\n",
              "        buttonEl.style.display =\n",
              "          google.colab.kernel.accessAllowed ? 'block' : 'none';\n",
              "\n",
              "        async function convertToInteractive(key) {\n",
              "          const element = document.querySelector('#df-b1f9740a-f0ff-4919-9eb4-4f617240bad1');\n",
              "          const dataTable =\n",
              "            await google.colab.kernel.invokeFunction('convertToInteractive',\n",
              "                                                     [key], {});\n",
              "          if (!dataTable) return;\n",
              "\n",
              "          const docLinkHtml = 'Like what you see? Visit the ' +\n",
              "            '<a target=\"_blank\" href=https://colab.research.google.com/notebooks/data_table.ipynb>data table notebook</a>'\n",
              "            + ' to learn more about interactive tables.';\n",
              "          element.innerHTML = '';\n",
              "          dataTable['output_type'] = 'display_data';\n",
              "          await google.colab.output.renderOutput(dataTable, element);\n",
              "          const docLink = document.createElement('div');\n",
              "          docLink.innerHTML = docLinkHtml;\n",
              "          element.appendChild(docLink);\n",
              "        }\n",
              "      </script>\n",
              "    </div>\n",
              "  </div>\n",
              "  "
            ]
          },
          "metadata": {},
          "execution_count": 49
        }
      ]
    },
    {
      "cell_type": "code",
      "source": [
        "df.describe()"
      ],
      "metadata": {
        "colab": {
          "base_uri": "https://localhost:8080/",
          "height": 300
        },
        "id": "5TkuDs1hdVpl",
        "outputId": "15691ea1-7e00-427f-cefe-a77eed33bc5a"
      },
      "execution_count": null,
      "outputs": [
        {
          "output_type": "execute_result",
          "data": {
            "text/plain": [
              "            Views\n",
              "count     4076.00\n",
              "mean    568825.21\n",
              "std    2337659.00\n",
              "min          0.00\n",
              "25%        396.00\n",
              "50%       3263.50\n",
              "75%     188984.00\n",
              "max   47958349.00"
            ],
            "text/html": [
              "\n",
              "  <div id=\"df-687357bf-2e50-4e7c-aa69-2fd38a246815\">\n",
              "    <div class=\"colab-df-container\">\n",
              "      <div>\n",
              "<style scoped>\n",
              "    .dataframe tbody tr th:only-of-type {\n",
              "        vertical-align: middle;\n",
              "    }\n",
              "\n",
              "    .dataframe tbody tr th {\n",
              "        vertical-align: top;\n",
              "    }\n",
              "\n",
              "    .dataframe thead th {\n",
              "        text-align: right;\n",
              "    }\n",
              "</style>\n",
              "<table border=\"1\" class=\"dataframe\">\n",
              "  <thead>\n",
              "    <tr style=\"text-align: right;\">\n",
              "      <th></th>\n",
              "      <th>Views</th>\n",
              "    </tr>\n",
              "  </thead>\n",
              "  <tbody>\n",
              "    <tr>\n",
              "      <th>count</th>\n",
              "      <td>4076.00</td>\n",
              "    </tr>\n",
              "    <tr>\n",
              "      <th>mean</th>\n",
              "      <td>568825.21</td>\n",
              "    </tr>\n",
              "    <tr>\n",
              "      <th>std</th>\n",
              "      <td>2337659.00</td>\n",
              "    </tr>\n",
              "    <tr>\n",
              "      <th>min</th>\n",
              "      <td>0.00</td>\n",
              "    </tr>\n",
              "    <tr>\n",
              "      <th>25%</th>\n",
              "      <td>396.00</td>\n",
              "    </tr>\n",
              "    <tr>\n",
              "      <th>50%</th>\n",
              "      <td>3263.50</td>\n",
              "    </tr>\n",
              "    <tr>\n",
              "      <th>75%</th>\n",
              "      <td>188984.00</td>\n",
              "    </tr>\n",
              "    <tr>\n",
              "      <th>max</th>\n",
              "      <td>47958349.00</td>\n",
              "    </tr>\n",
              "  </tbody>\n",
              "</table>\n",
              "</div>\n",
              "      <button class=\"colab-df-convert\" onclick=\"convertToInteractive('df-687357bf-2e50-4e7c-aa69-2fd38a246815')\"\n",
              "              title=\"Convert this dataframe to an interactive table.\"\n",
              "              style=\"display:none;\">\n",
              "        \n",
              "  <svg xmlns=\"http://www.w3.org/2000/svg\" height=\"24px\"viewBox=\"0 0 24 24\"\n",
              "       width=\"24px\">\n",
              "    <path d=\"M0 0h24v24H0V0z\" fill=\"none\"/>\n",
              "    <path d=\"M18.56 5.44l.94 2.06.94-2.06 2.06-.94-2.06-.94-.94-2.06-.94 2.06-2.06.94zm-11 1L8.5 8.5l.94-2.06 2.06-.94-2.06-.94L8.5 2.5l-.94 2.06-2.06.94zm10 10l.94 2.06.94-2.06 2.06-.94-2.06-.94-.94-2.06-.94 2.06-2.06.94z\"/><path d=\"M17.41 7.96l-1.37-1.37c-.4-.4-.92-.59-1.43-.59-.52 0-1.04.2-1.43.59L10.3 9.45l-7.72 7.72c-.78.78-.78 2.05 0 2.83L4 21.41c.39.39.9.59 1.41.59.51 0 1.02-.2 1.41-.59l7.78-7.78 2.81-2.81c.8-.78.8-2.07 0-2.86zM5.41 20L4 18.59l7.72-7.72 1.47 1.35L5.41 20z\"/>\n",
              "  </svg>\n",
              "      </button>\n",
              "      \n",
              "  <style>\n",
              "    .colab-df-container {\n",
              "      display:flex;\n",
              "      flex-wrap:wrap;\n",
              "      gap: 12px;\n",
              "    }\n",
              "\n",
              "    .colab-df-convert {\n",
              "      background-color: #E8F0FE;\n",
              "      border: none;\n",
              "      border-radius: 50%;\n",
              "      cursor: pointer;\n",
              "      display: none;\n",
              "      fill: #1967D2;\n",
              "      height: 32px;\n",
              "      padding: 0 0 0 0;\n",
              "      width: 32px;\n",
              "    }\n",
              "\n",
              "    .colab-df-convert:hover {\n",
              "      background-color: #E2EBFA;\n",
              "      box-shadow: 0px 1px 2px rgba(60, 64, 67, 0.3), 0px 1px 3px 1px rgba(60, 64, 67, 0.15);\n",
              "      fill: #174EA6;\n",
              "    }\n",
              "\n",
              "    [theme=dark] .colab-df-convert {\n",
              "      background-color: #3B4455;\n",
              "      fill: #D2E3FC;\n",
              "    }\n",
              "\n",
              "    [theme=dark] .colab-df-convert:hover {\n",
              "      background-color: #434B5C;\n",
              "      box-shadow: 0px 1px 3px 1px rgba(0, 0, 0, 0.15);\n",
              "      filter: drop-shadow(0px 1px 2px rgba(0, 0, 0, 0.3));\n",
              "      fill: #FFFFFF;\n",
              "    }\n",
              "  </style>\n",
              "\n",
              "      <script>\n",
              "        const buttonEl =\n",
              "          document.querySelector('#df-687357bf-2e50-4e7c-aa69-2fd38a246815 button.colab-df-convert');\n",
              "        buttonEl.style.display =\n",
              "          google.colab.kernel.accessAllowed ? 'block' : 'none';\n",
              "\n",
              "        async function convertToInteractive(key) {\n",
              "          const element = document.querySelector('#df-687357bf-2e50-4e7c-aa69-2fd38a246815');\n",
              "          const dataTable =\n",
              "            await google.colab.kernel.invokeFunction('convertToInteractive',\n",
              "                                                     [key], {});\n",
              "          if (!dataTable) return;\n",
              "\n",
              "          const docLinkHtml = 'Like what you see? Visit the ' +\n",
              "            '<a target=\"_blank\" href=https://colab.research.google.com/notebooks/data_table.ipynb>data table notebook</a>'\n",
              "            + ' to learn more about interactive tables.';\n",
              "          element.innerHTML = '';\n",
              "          dataTable['output_type'] = 'display_data';\n",
              "          await google.colab.output.renderOutput(dataTable, element);\n",
              "          const docLink = document.createElement('div');\n",
              "          docLink.innerHTML = docLinkHtml;\n",
              "          element.appendChild(docLink);\n",
              "        }\n",
              "      </script>\n",
              "    </div>\n",
              "  </div>\n",
              "  "
            ]
          },
          "metadata": {},
          "execution_count": 50
        }
      ]
    },
    {
      "cell_type": "code",
      "source": [
        "df[df.Views==\t47958349].T\n",
        "# I wanted to see the most viewed video. "
      ],
      "metadata": {
        "colab": {
          "base_uri": "https://localhost:8080/",
          "height": 407
        },
        "id": "l0VI5uXhdni5",
        "outputId": "45a7069f-d21f-46af-e934-e06a16166317"
      },
      "execution_count": null,
      "outputs": [
        {
          "output_type": "execute_result",
          "data": {
            "text/plain": [
              "                                               3770  \\\n",
              "Brand                                    NEUTROGENA   \n",
              "Market                                       Mexico   \n",
              "Title                             Neutrogena México   \n",
              "Video_URL           youtube.com/watch?v=nnXpjA3n6kY   \n",
              "Views                                      47958349   \n",
              "Description                         Has Description   \n",
              "Location                                No Location   \n",
              "Comments                           Comments Enabled   \n",
              "Scan_Date                       2021-02-16 00:00:00   \n",
              "Scan_Month_of_2021                         February   \n",
              "\n",
              "                                               3771  \n",
              "Brand                                    NEUTROGENA  \n",
              "Market                                       Mexico  \n",
              "Title                             Neutrogena México  \n",
              "Video_URL           youtube.com/watch?v=nnXpjA3n6kY  \n",
              "Views                                      47958349  \n",
              "Description                         Has Description  \n",
              "Location                                No Location  \n",
              "Comments                           Comments Enabled  \n",
              "Scan_Date                       2021-03-05 00:00:00  \n",
              "Scan_Month_of_2021                            March  "
            ],
            "text/html": [
              "\n",
              "  <div id=\"df-a75af4c2-1f1c-4019-8129-3c2bf0961af7\">\n",
              "    <div class=\"colab-df-container\">\n",
              "      <div>\n",
              "<style scoped>\n",
              "    .dataframe tbody tr th:only-of-type {\n",
              "        vertical-align: middle;\n",
              "    }\n",
              "\n",
              "    .dataframe tbody tr th {\n",
              "        vertical-align: top;\n",
              "    }\n",
              "\n",
              "    .dataframe thead th {\n",
              "        text-align: right;\n",
              "    }\n",
              "</style>\n",
              "<table border=\"1\" class=\"dataframe\">\n",
              "  <thead>\n",
              "    <tr style=\"text-align: right;\">\n",
              "      <th></th>\n",
              "      <th>3770</th>\n",
              "      <th>3771</th>\n",
              "    </tr>\n",
              "  </thead>\n",
              "  <tbody>\n",
              "    <tr>\n",
              "      <th>Brand</th>\n",
              "      <td>NEUTROGENA</td>\n",
              "      <td>NEUTROGENA</td>\n",
              "    </tr>\n",
              "    <tr>\n",
              "      <th>Market</th>\n",
              "      <td>Mexico</td>\n",
              "      <td>Mexico</td>\n",
              "    </tr>\n",
              "    <tr>\n",
              "      <th>Title</th>\n",
              "      <td>Neutrogena México</td>\n",
              "      <td>Neutrogena México</td>\n",
              "    </tr>\n",
              "    <tr>\n",
              "      <th>Video_URL</th>\n",
              "      <td>youtube.com/watch?v=nnXpjA3n6kY</td>\n",
              "      <td>youtube.com/watch?v=nnXpjA3n6kY</td>\n",
              "    </tr>\n",
              "    <tr>\n",
              "      <th>Views</th>\n",
              "      <td>47958349</td>\n",
              "      <td>47958349</td>\n",
              "    </tr>\n",
              "    <tr>\n",
              "      <th>Description</th>\n",
              "      <td>Has Description</td>\n",
              "      <td>Has Description</td>\n",
              "    </tr>\n",
              "    <tr>\n",
              "      <th>Location</th>\n",
              "      <td>No Location</td>\n",
              "      <td>No Location</td>\n",
              "    </tr>\n",
              "    <tr>\n",
              "      <th>Comments</th>\n",
              "      <td>Comments Enabled</td>\n",
              "      <td>Comments Enabled</td>\n",
              "    </tr>\n",
              "    <tr>\n",
              "      <th>Scan_Date</th>\n",
              "      <td>2021-02-16 00:00:00</td>\n",
              "      <td>2021-03-05 00:00:00</td>\n",
              "    </tr>\n",
              "    <tr>\n",
              "      <th>Scan_Month_of_2021</th>\n",
              "      <td>February</td>\n",
              "      <td>March</td>\n",
              "    </tr>\n",
              "  </tbody>\n",
              "</table>\n",
              "</div>\n",
              "      <button class=\"colab-df-convert\" onclick=\"convertToInteractive('df-a75af4c2-1f1c-4019-8129-3c2bf0961af7')\"\n",
              "              title=\"Convert this dataframe to an interactive table.\"\n",
              "              style=\"display:none;\">\n",
              "        \n",
              "  <svg xmlns=\"http://www.w3.org/2000/svg\" height=\"24px\"viewBox=\"0 0 24 24\"\n",
              "       width=\"24px\">\n",
              "    <path d=\"M0 0h24v24H0V0z\" fill=\"none\"/>\n",
              "    <path d=\"M18.56 5.44l.94 2.06.94-2.06 2.06-.94-2.06-.94-.94-2.06-.94 2.06-2.06.94zm-11 1L8.5 8.5l.94-2.06 2.06-.94-2.06-.94L8.5 2.5l-.94 2.06-2.06.94zm10 10l.94 2.06.94-2.06 2.06-.94-2.06-.94-.94-2.06-.94 2.06-2.06.94z\"/><path d=\"M17.41 7.96l-1.37-1.37c-.4-.4-.92-.59-1.43-.59-.52 0-1.04.2-1.43.59L10.3 9.45l-7.72 7.72c-.78.78-.78 2.05 0 2.83L4 21.41c.39.39.9.59 1.41.59.51 0 1.02-.2 1.41-.59l7.78-7.78 2.81-2.81c.8-.78.8-2.07 0-2.86zM5.41 20L4 18.59l7.72-7.72 1.47 1.35L5.41 20z\"/>\n",
              "  </svg>\n",
              "      </button>\n",
              "      \n",
              "  <style>\n",
              "    .colab-df-container {\n",
              "      display:flex;\n",
              "      flex-wrap:wrap;\n",
              "      gap: 12px;\n",
              "    }\n",
              "\n",
              "    .colab-df-convert {\n",
              "      background-color: #E8F0FE;\n",
              "      border: none;\n",
              "      border-radius: 50%;\n",
              "      cursor: pointer;\n",
              "      display: none;\n",
              "      fill: #1967D2;\n",
              "      height: 32px;\n",
              "      padding: 0 0 0 0;\n",
              "      width: 32px;\n",
              "    }\n",
              "\n",
              "    .colab-df-convert:hover {\n",
              "      background-color: #E2EBFA;\n",
              "      box-shadow: 0px 1px 2px rgba(60, 64, 67, 0.3), 0px 1px 3px 1px rgba(60, 64, 67, 0.15);\n",
              "      fill: #174EA6;\n",
              "    }\n",
              "\n",
              "    [theme=dark] .colab-df-convert {\n",
              "      background-color: #3B4455;\n",
              "      fill: #D2E3FC;\n",
              "    }\n",
              "\n",
              "    [theme=dark] .colab-df-convert:hover {\n",
              "      background-color: #434B5C;\n",
              "      box-shadow: 0px 1px 3px 1px rgba(0, 0, 0, 0.15);\n",
              "      filter: drop-shadow(0px 1px 2px rgba(0, 0, 0, 0.3));\n",
              "      fill: #FFFFFF;\n",
              "    }\n",
              "  </style>\n",
              "\n",
              "      <script>\n",
              "        const buttonEl =\n",
              "          document.querySelector('#df-a75af4c2-1f1c-4019-8129-3c2bf0961af7 button.colab-df-convert');\n",
              "        buttonEl.style.display =\n",
              "          google.colab.kernel.accessAllowed ? 'block' : 'none';\n",
              "\n",
              "        async function convertToInteractive(key) {\n",
              "          const element = document.querySelector('#df-a75af4c2-1f1c-4019-8129-3c2bf0961af7');\n",
              "          const dataTable =\n",
              "            await google.colab.kernel.invokeFunction('convertToInteractive',\n",
              "                                                     [key], {});\n",
              "          if (!dataTable) return;\n",
              "\n",
              "          const docLinkHtml = 'Like what you see? Visit the ' +\n",
              "            '<a target=\"_blank\" href=https://colab.research.google.com/notebooks/data_table.ipynb>data table notebook</a>'\n",
              "            + ' to learn more about interactive tables.';\n",
              "          element.innerHTML = '';\n",
              "          dataTable['output_type'] = 'display_data';\n",
              "          await google.colab.output.renderOutput(dataTable, element);\n",
              "          const docLink = document.createElement('div');\n",
              "          docLink.innerHTML = docLinkHtml;\n",
              "          element.appendChild(docLink);\n",
              "        }\n",
              "      </script>\n",
              "    </div>\n",
              "  </div>\n",
              "  "
            ]
          },
          "metadata": {},
          "execution_count": 51
        }
      ]
    },
    {
      "cell_type": "markdown",
      "source": [
        "# **GLOBAL-COUNTRY-BRAND Base Assesment**"
      ],
      "metadata": {
        "id": "P7QQUzIKkmD7"
      }
    },
    {
      "cell_type": "markdown",
      "source": [
        "# On a global basis-Videos without description"
      ],
      "metadata": {
        "id": "Nx7b36j2-rCw"
      }
    },
    {
      "cell_type": "code",
      "source": [
        "df[df[\"Description\"]==\"Description Missing\"].groupby(\"Scan_Month_of_2021\")[\"Title\"].value_counts()\n",
        "#For the month of February and March with no description, \"Neutrogena Australia & NZ\" has the highest count for this dataset"
      ],
      "metadata": {
        "colab": {
          "base_uri": "https://localhost:8080/"
        },
        "id": "1xxOtEwlKmIR",
        "outputId": "09d8fcd1-9bb3-4598-94dc-735423adce5d"
      },
      "execution_count": null,
      "outputs": [
        {
          "output_type": "execute_result",
          "data": {
            "text/plain": [
              "Scan_Month_of_2021  Title                           \n",
              "February            Neutrogena Australia & NZ           57\n",
              "                    TYLENOL® Canada Brand Channel       56\n",
              "                    Acuvue INA                          24\n",
              "                    Johnson & Johnson Vision Türkiye    21\n",
              "                    Neutrogena México                   14\n",
              "                    Listerine HK                        13\n",
              "                    AVEENO UK and IRELAND               11\n",
              "                    Clean & Clear Malaysia              11\n",
              "                    VisionCare Japan                    11\n",
              "                    Rygestop med NICORETTE® Danmark     10\n",
              "                    Tylenol Brasil                      10\n",
              "                    Acuvue Emea                          9\n",
              "                    Aveeno Australia                     9\n",
              "                    Neutrogena HongKong                  9\n",
              "                    ACUVUE® SK                           7\n",
              "                    Aveeno Canada                        6\n",
              "                    Clean & Clear Canada                 5\n",
              "                    LISTERINE® Canada                    5\n",
              "                    Le Petit Marseillais Türkiye         5\n",
              "                    semprelivrebrasil                    5\n",
              "                    Listerine Israel                     4\n",
              "                    Neutrogena Perú                      4\n",
              "                    Nicorette AU                         4\n",
              "                    PEPCID®                              4\n",
              "                    Tylenol Thailand Thailand            4\n",
              "                    BAND-AID Brand Adhesive Bandages     3\n",
              "                    LISTERINE® Ecuador                   3\n",
              "                    LISTERINE® México                    3\n",
              "                    Listerine® Italia                    3\n",
              "                    Rhinocort Australia                  3\n",
              "                    LISTERINE© Türkiye                   2\n",
              "                    LISTERINE® Perú                      2\n",
              "                    LISTERINE® Sverige                   2\n",
              "                    Piz Buin                             2\n",
              "                    STAYFREE® South Africa               2\n",
              "                    TYLENOLOFFICIAL                      2\n",
              "                    ¡Nos pasa a todas!                   2\n",
              "                    Aveeno HK                            1\n",
              "                    Dr.Ci:Labo Singapore                 1\n",
              "                    Imodium Middle East                  1\n",
              "                    LISTERINE® België                    1\n",
              "                    LISTERINE® Greece                    1\n",
              "                    NEUTROGENA® UK and Ireland           1\n",
              "                    Neutrogena Indonesia                 1\n",
              "                    OGX Beauty                           1\n",
              "                    Ogx Singapore                        1\n",
              "                    Piz Buin ® Portugal                  1\n",
              "March               Neutrogena Australia & NZ           57\n",
              "                    TYLENOL® Canada Brand Channel       56\n",
              "                    Acuvue INA                          24\n",
              "                    Johnson & Johnson Vision Türkiye    21\n",
              "                    Neutrogena México                   14\n",
              "                    Listerine HK                        13\n",
              "                    AVEENO UK and IRELAND               11\n",
              "                    Clean & Clear Malaysia              11\n",
              "                    VisionCare Japan                    11\n",
              "                    Rygestop med NICORETTE® Danmark     10\n",
              "                    Tylenol Brasil                      10\n",
              "                    Acuvue Emea                          9\n",
              "                    Aveeno Australia                     9\n",
              "                    Neutrogena HongKong                  9\n",
              "                    ACUVUE® SK                           7\n",
              "                    Aveeno Canada                        6\n",
              "                    Clean & Clear Canada                 5\n",
              "                    LISTERINE® Canada                    5\n",
              "                    Le Petit Marseillais Türkiye         5\n",
              "                    semprelivrebrasil                    5\n",
              "                    Listerine Israel                     4\n",
              "                    Neutrogena Perú                      4\n",
              "                    Nicorette AU                         4\n",
              "                    PEPCID®                              4\n",
              "                    Tylenol Thailand Thailand            4\n",
              "                    BAND-AID Brand Adhesive Bandages     3\n",
              "                    LISTERINE® Ecuador                   3\n",
              "                    LISTERINE® México                    3\n",
              "                    Listerine® Italia                    3\n",
              "                    Rhinocort Australia                  3\n",
              "                    LISTERINE© Türkiye                   2\n",
              "                    LISTERINE® Perú                      2\n",
              "                    LISTERINE® Sverige                   2\n",
              "                    Piz Buin                             2\n",
              "                    STAYFREE® South Africa               2\n",
              "                    TYLENOLOFFICIAL                      2\n",
              "                    ¡Nos pasa a todas!                   2\n",
              "                    Aveeno HK                            1\n",
              "                    Dr.Ci:Labo Singapore                 1\n",
              "                    Imodium Middle East                  1\n",
              "                    LISTERINE® België                    1\n",
              "                    LISTERINE® Greece                    1\n",
              "                    NEUTROGENA® UK and Ireland           1\n",
              "                    Neutrogena Indonesia                 1\n",
              "                    OGX Beauty                           1\n",
              "                    Ogx Singapore                        1\n",
              "                    Piz Buin ® Portugal                  1\n",
              "Name: Title, dtype: int64"
            ]
          },
          "metadata": {},
          "execution_count": 52
        }
      ]
    },
    {
      "cell_type": "code",
      "source": [
        "df.columns"
      ],
      "metadata": {
        "colab": {
          "base_uri": "https://localhost:8080/"
        },
        "id": "m9fLH7Ds_KX9",
        "outputId": "d7a608d1-222d-4673-82f5-d82e22fa7f68"
      },
      "execution_count": null,
      "outputs": [
        {
          "output_type": "execute_result",
          "data": {
            "text/plain": [
              "Index(['Brand', 'Market', 'Title', 'Video_URL', 'Views', 'Description',\n",
              "       'Location', 'Comments', 'Scan_Date', 'Scan_Month_of_2021'],\n",
              "      dtype='object')"
            ]
          },
          "metadata": {},
          "execution_count": 53
        }
      ]
    },
    {
      "cell_type": "code",
      "source": [
        "df.groupby(\"Scan_Month_of_2021\")[\"Description\"].value_counts()\n",
        "#There are 42 more videos with descripsion in March compared to February"
      ],
      "metadata": {
        "colab": {
          "base_uri": "https://localhost:8080/"
        },
        "id": "kQ5RMWeV-tZM",
        "outputId": "8a85fa2d-b297-4851-fefb-b09084dc3b4c"
      },
      "execution_count": null,
      "outputs": [
        {
          "output_type": "execute_result",
          "data": {
            "text/plain": [
              "Scan_Month_of_2021  Description        \n",
              "February            Has Description        1660\n",
              "                    Description Missing     357\n",
              "March               Has Description        1702\n",
              "                    Description Missing     357\n",
              "Name: Description, dtype: int64"
            ]
          },
          "metadata": {},
          "execution_count": 54
        }
      ]
    },
    {
      "cell_type": "markdown",
      "source": [
        "# On a global basis-Videos with comments enabled"
      ],
      "metadata": {
        "id": "fm3Ej5Ri_z2p"
      }
    },
    {
      "cell_type": "code",
      "source": [
        "df[df[\"Comments\"]==\"Comments Enabled\"].groupby(\"Scan_Month_of_2021\")[\"Title\"].value_counts()\n",
        "#For the month of February and March with comments enabled, \"CLEAN & CLEAR® Arabia\" has the highest count for this dataset"
      ],
      "metadata": {
        "colab": {
          "base_uri": "https://localhost:8080/"
        },
        "id": "ngWFP9EnLaTG",
        "outputId": "385c4996-1107-4a24-fb85-492c5018cdc2"
      },
      "execution_count": null,
      "outputs": [
        {
          "output_type": "execute_result",
          "data": {
            "text/plain": [
              "Scan_Month_of_2021  Title                           \n",
              "February            CLEAN & CLEAR® Arabia               89\n",
              "                    youtube.com/ACUVUE GREECE           73\n",
              "                    ¡Nos pasa a todas!                  65\n",
              "                    Aveeno Canada                       43\n",
              "                    semprelivrebrasil                   41\n",
              "                    Johnson & Johnson Vision Türkiye    37\n",
              "                    Acuvue Emea                         36\n",
              "                    Neutrogena México                   31\n",
              "                    Le Petit Marseillais Arabia         29\n",
              "                    Aveeno HK                           27\n",
              "                    BAND-AID Brand Adhesive Bandages    27\n",
              "                    LISTERINE® México                   27\n",
              "                    Acuvue INA                          24\n",
              "                    Pepcid Canada                       20\n",
              "                    Clean & Clear Malaysia              18\n",
              "                    Listerine HK                        17\n",
              "                    Nicorette Canada                    16\n",
              "                    Dr.Ci:Labo Singapore                15\n",
              "                    OGX Beauty                          15\n",
              "                    Aveeno India                        14\n",
              "                    Clean & Clear Canada                13\n",
              "                    Tylenol Brasil                      12\n",
              "                    Acuvue México                       11\n",
              "                    Carefree Canada                     10\n",
              "                    Carefree® Argentina                 10\n",
              "                    Neutrogena Perú                      9\n",
              "                    Aveeno Japan                         8\n",
              "                    LISTERINE® Ecuador                   8\n",
              "                    OGX EMEA                             6\n",
              "                    LISTERINE® Perú                      5\n",
              "                    Piz Buin                             5\n",
              "                    Aveeno ME                            4\n",
              "                    Aveeno Thailand                      4\n",
              "                    Neutrogena Indonesia                 4\n",
              "                    Aveeno Indonesia                     3\n",
              "                    OGX Beauty Brasil                    3\n",
              "                    Aveno                                2\n",
              "                    NEOSTRATA Canada                     2\n",
              "                    NEUTROGENA® POLSKA                   2\n",
              "                    TYLENOL® Canada Brand Channel        2\n",
              "                    Tylenol Thailand Thailand            2\n",
              "                    Aveeno® Chile                        1\n",
              "                    Le Petit Marseillais Türkiye         1\n",
              "                    NeoStrata Malaysia                   1\n",
              "                    Ogx Singapore                        1\n",
              "                    Tylenol México                       1\n",
              "March               CLEAN & CLEAR® Arabia               89\n",
              "                    youtube.com/ACUVUE GREECE           73\n",
              "                    ¡Nos pasa a todas!                  65\n",
              "                    Aveeno Canada                       43\n",
              "                    semprelivrebrasil                   41\n",
              "                    Johnson & Johnson Vision Türkiye    37\n",
              "                    Acuvue Emea                         36\n",
              "                    Neutrogena México                   31\n",
              "                    Le Petit Marseillais Arabia         29\n",
              "                    Aveeno HK                           27\n",
              "                    BAND-AID Brand Adhesive Bandages    27\n",
              "                    LISTERINE® México                   27\n",
              "                    Acuvue INA                          24\n",
              "                    Pepcid Canada                       20\n",
              "                    Clean & Clear Malaysia              18\n",
              "                    Listerine HK                        17\n",
              "                    Nicorette Canada                    16\n",
              "                    Dr.Ci:Labo Singapore                15\n",
              "                    OGX Beauty                          15\n",
              "                    Aveeno India                        14\n",
              "                    Clean & Clear Canada                13\n",
              "                    Tylenol Brasil                      12\n",
              "                    Acuvue México                       11\n",
              "                    Carefree Canada                     10\n",
              "                    Carefree® Argentina                 10\n",
              "                    Aveeno Malaysia                      9\n",
              "                    Neutrogena Perú                      9\n",
              "                    Aveeno Japan                         8\n",
              "                    LISTERINE® Ecuador                   8\n",
              "                    ACUVUE ARGENTINA                     6\n",
              "                    OGX EMEA                             6\n",
              "                    LISTERINE® Perú                      5\n",
              "                    Piz Buin                             5\n",
              "                    Aveeno ME                            4\n",
              "                    Aveeno Thailand                      4\n",
              "                    Neutrogena Indonesia                 4\n",
              "                    PENATEN®                             4\n",
              "                    Aveeno Indonesia                     3\n",
              "                    OGX Beauty Brasil                    3\n",
              "                    Aveno                                2\n",
              "                    NEOSTRATA Canada                     2\n",
              "                    NEUTROGENA® POLSKA                   2\n",
              "                    TYLENOL® Canada Brand Channel        2\n",
              "                    Tylenol Thailand Thailand            2\n",
              "                    Aveeno® Chile                        1\n",
              "                    Le Petit Marseillais Türkiye         1\n",
              "                    NeoStrata Malaysia                   1\n",
              "                    Ogx Singapore                        1\n",
              "                    Tylenol México                       1\n",
              "Name: Title, dtype: int64"
            ]
          },
          "metadata": {},
          "execution_count": 55
        }
      ]
    },
    {
      "cell_type": "code",
      "source": [
        "df.groupby(\"Scan_Month_of_2021\")[\"Comments\"].value_counts()\n",
        "#There are more videos with comments enabled and comments diasbled in March compared to February"
      ],
      "metadata": {
        "colab": {
          "base_uri": "https://localhost:8080/"
        },
        "id": "6LTJWc9d_y6X",
        "outputId": "39baa23e-ebd2-48c6-8e98-2659dd5ce48c"
      },
      "execution_count": null,
      "outputs": [
        {
          "output_type": "execute_result",
          "data": {
            "text/plain": [
              "Scan_Month_of_2021  Comments         \n",
              "February            Comments Disabled    1223\n",
              "                    Comments Enabled      794\n",
              "March               Comments Disabled    1246\n",
              "                    Comments Enabled      813\n",
              "Name: Comments, dtype: int64"
            ]
          },
          "metadata": {},
          "execution_count": 56
        }
      ]
    },
    {
      "cell_type": "markdown",
      "source": [
        "# On a global basis-Channels without location "
      ],
      "metadata": {
        "id": "MfrxRRXmBkgl"
      }
    },
    {
      "cell_type": "code",
      "source": [
        "df[df[\"Location\"]==\"No Location\"].groupby(\"Scan_Month_of_2021\")[\"Title\"].value_counts()\n",
        "#For the month of February and March with no location, \"CLEAN & CLEAR® Arabia\" has the highest count for this dataset"
      ],
      "metadata": {
        "colab": {
          "base_uri": "https://localhost:8080/"
        },
        "id": "xjLRqOEvMWfe",
        "outputId": "9456a2fe-9913-4ca0-989b-9706f2ea50a9"
      },
      "execution_count": null,
      "outputs": [
        {
          "output_type": "execute_result",
          "data": {
            "text/plain": [
              "Scan_Month_of_2021  Title                           \n",
              "February            CLEAN & CLEAR® Arabia               97\n",
              "                    Neutrogena Australia & NZ           94\n",
              "                    Neutrogena HongKong                 79\n",
              "                    youtube.com/ACUVUE GREECE           74\n",
              "                    Rygestop med NICORETTE® Danmark     66\n",
              "                    Nicorette AU                        57\n",
              "                    NEUTROGENA® POLSKA                  39\n",
              "                    Acuvue Emea                         36\n",
              "                    Tylenol Korea                       35\n",
              "                    VisionCare Japan                    35\n",
              "                    Clean & Clear Canada                33\n",
              "                    Neutrogena México                   31\n",
              "                    BAND-AID Brand Adhesive Bandages    27\n",
              "                    LISTERINE® México                   27\n",
              "                    ACUVUE® Lentes de Contacto          25\n",
              "                    Nicorette Canada                    23\n",
              "                    Clean & Clear Malaysia              18\n",
              "                    NEUTROGENA® UK and Ireland          18\n",
              "                    PEPCID®                             17\n",
              "                    LISTERINE® Greece                   16\n",
              "                    Aveeno India                        15\n",
              "                    Dr.Ci:Labo Singapore                15\n",
              "                    Nicorette GR                        15\n",
              "                    Listerine Israel                    12\n",
              "                    MOTRIN®                             12\n",
              "                    Tylenol Brasil                      12\n",
              "                    ACUVUE® SK                          10\n",
              "                    SUDAFED® UK                         10\n",
              "                    Tylenol Thailand Thailand            9\n",
              "                    LISTERINE® Sverige                   6\n",
              "                    Neutrogena Portugal                  6\n",
              "                    OGX EMEA                             6\n",
              "                    Neutrogena PH                        5\n",
              "                    Piz Buin                             5\n",
              "                    Nicorette Portugal                   4\n",
              "                    VISINEOfficial                       4\n",
              "                    Aveeno Indonesia                     3\n",
              "                    OGX Beauty Brasil                    3\n",
              "                    Rhinocort Australia                  3\n",
              "                    Aveeno Portugal                      2\n",
              "                    Aveno                                2\n",
              "                    LISTERINE CZ                         2\n",
              "                    SUDAFED®                             2\n",
              "                    Imodium Middle East                  1\n",
              "                    LISTERINE® België                    1\n",
              "                    Lubriderm USA                        1\n",
              "                    NeoStrata Malaysia                   1\n",
              "                    Ogx Singapore                        1\n",
              "March               CLEAN & CLEAR® Arabia               97\n",
              "                    Neutrogena Australia & NZ           94\n",
              "                    Neutrogena HongKong                 79\n",
              "                    youtube.com/ACUVUE GREECE           74\n",
              "                    Rygestop med NICORETTE® Danmark     66\n",
              "                    Nicorette AU                        57\n",
              "                    NEUTROGENA® POLSKA                  39\n",
              "                    Acuvue Emea                         36\n",
              "                    Tylenol Korea                       35\n",
              "                    VisionCare Japan                    35\n",
              "                    Clean & Clear Canada                33\n",
              "                    Neutrogena México                   31\n",
              "                    BAND-AID Brand Adhesive Bandages    27\n",
              "                    LISTERINE® México                   27\n",
              "                    ACUVUE® Lentes de Contacto          25\n",
              "                    Nicorette Canada                    23\n",
              "                    Clean & Clear Malaysia              18\n",
              "                    NEUTROGENA® UK and Ireland          18\n",
              "                    PEPCID®                             17\n",
              "                    LISTERINE® Greece                   16\n",
              "                    Aveeno India                        15\n",
              "                    Dr.Ci:Labo Singapore                15\n",
              "                    Nicorette GR                        15\n",
              "                    Listerine Israel                    12\n",
              "                    MOTRIN®                             12\n",
              "                    Tylenol Brasil                      12\n",
              "                    ACUVUE® SK                          10\n",
              "                    SUDAFED® UK                         10\n",
              "                    Aveeno Malaysia                      9\n",
              "                    Tylenol Thailand Thailand            9\n",
              "                    LISTERINE® Sverige                   6\n",
              "                    Neutrogena Portugal                  6\n",
              "                    OGX EMEA                             6\n",
              "                    Neutrogena PH                        5\n",
              "                    Piz Buin                             5\n",
              "                    Nicorette Portugal                   4\n",
              "                    VISINEOfficial                       4\n",
              "                    Aveeno Indonesia                     3\n",
              "                    OGX Beauty Brasil                    3\n",
              "                    Rhinocort Australia                  3\n",
              "                    Aveeno Portugal                      2\n",
              "                    Aveno                                2\n",
              "                    LISTERINE CZ                         2\n",
              "                    SUDAFED®                             2\n",
              "                    Imodium Middle East                  1\n",
              "                    LISTERINE® België                    1\n",
              "                    Lubriderm USA                        1\n",
              "                    NeoStrata Malaysia                   1\n",
              "                    Ogx Singapore                        1\n",
              "Name: Title, dtype: int64"
            ]
          },
          "metadata": {},
          "execution_count": 57
        }
      ]
    },
    {
      "cell_type": "code",
      "source": [
        "df.groupby(\"Scan_Month_of_2021\")[\"Location\"].value_counts()\n",
        "##There are more videos with No Location and Location Specified in March compared to February"
      ],
      "metadata": {
        "colab": {
          "base_uri": "https://localhost:8080/"
        },
        "id": "23YTHJ57CLT4",
        "outputId": "540f6942-2655-45ef-fc1f-5fae17b84ab9"
      },
      "execution_count": null,
      "outputs": [
        {
          "output_type": "execute_result",
          "data": {
            "text/plain": [
              "Scan_Month_of_2021  Location          \n",
              "February            No Location           1015\n",
              "                    Location Specified    1002\n",
              "March               Location Specified    1035\n",
              "                    No Location           1024\n",
              "Name: Location, dtype: int64"
            ]
          },
          "metadata": {},
          "execution_count": 58
        }
      ]
    },
    {
      "cell_type": "markdown",
      "source": [
        "# On a global basis -Videos with less than 100 views"
      ],
      "metadata": {
        "id": "56v5ZtiuBnVq"
      }
    },
    {
      "cell_type": "code",
      "source": [
        "df[df.Views<100].groupby(\"Scan_Month_of_2021\")[\"Title\"].count()\n",
        "##There are 13 more videos with Views less than 100 in March compared to February"
      ],
      "metadata": {
        "colab": {
          "base_uri": "https://localhost:8080/"
        },
        "id": "Cp_MWKs0Cywp",
        "outputId": "613031ca-a6fe-431c-eb1c-6115ad4b67ab"
      },
      "execution_count": null,
      "outputs": [
        {
          "output_type": "execute_result",
          "data": {
            "text/plain": [
              "Scan_Month_of_2021\n",
              "February    240\n",
              "March       253\n",
              "Name: Title, dtype: int64"
            ]
          },
          "metadata": {},
          "execution_count": 59
        }
      ]
    },
    {
      "cell_type": "code",
      "source": [
        "df[df[\"Views\"]<100].groupby(\"Scan_Month_of_2021\")[\"Title\"].value_counts()\n",
        "#For the month of February and March with Views less than 100, \"youtube.com/ACUVUE GREECE\" has the highest count for this dataset"
      ],
      "metadata": {
        "colab": {
          "base_uri": "https://localhost:8080/"
        },
        "id": "-U9VA_HHNFia",
        "outputId": "a3b710fa-3b87-4534-b4fc-7ace449b3bf7"
      },
      "execution_count": null,
      "outputs": [
        {
          "output_type": "execute_result",
          "data": {
            "text/plain": [
              "Scan_Month_of_2021  Title                               \n",
              "February            youtube.com/ACUVUE GREECE               69\n",
              "                    Acuvue Emea                             33\n",
              "                    Johnson & Johnson Vision Türkiye        27\n",
              "                    ACUVUE® Italia                          12\n",
              "                    Acuvue INA                              12\n",
              "                    LISTERINE® Canada                        9\n",
              "                    Acuvue México                            8\n",
              "                    Aveeno Japan                             6\n",
              "                    Nicorette AU                             6\n",
              "                    Rygestop med NICORETTE® Danmark          6\n",
              "                    STAYFREE® South Africa                   6\n",
              "                    ACUVUE® Lentes de Contacto               5\n",
              "                    ACUVUE® SK                               4\n",
              "                    BAND-AID Brand Adhesive Bandages         4\n",
              "                    VisionCare Japan                         4\n",
              "                    Imodium Polska                           3\n",
              "                    Aveeno Portugal                          2\n",
              "                    Carefree Canada                          2\n",
              "                    LISTERINE® México                        2\n",
              "                    Neutrogena Australia & NZ                2\n",
              "                    PEPCID®                                  2\n",
              "                    TYLENOL® Canada Brand Channel            2\n",
              "                    Tylenol Brasil                           2\n",
              "                    ACUVUE® Contact Lenses, UK & Ireland     1\n",
              "                    AVEENO UK and IRELAND                    1\n",
              "                    Aveeno Canada                            1\n",
              "                    Aveeno Indonesia                         1\n",
              "                    LISTERINE® Ecuador                       1\n",
              "                    LISTERINE® Greece                        1\n",
              "                    Listerine® Italia                        1\n",
              "                    NeoStrata Malaysia                       1\n",
              "                    Neutrogena Perú                          1\n",
              "                    Neutrogena Portugal                      1\n",
              "                    Nicorette Canada                         1\n",
              "                    SUDAFED® UK                              1\n",
              "March               youtube.com/ACUVUE GREECE               69\n",
              "                    Acuvue Emea                             33\n",
              "                    Johnson & Johnson Vision Türkiye        27\n",
              "                    ACUVUE ARGENTINA                        12\n",
              "                    ACUVUE® Italia                          12\n",
              "                    Acuvue INA                              12\n",
              "                    LISTERINE® Canada                        9\n",
              "                    Acuvue México                            8\n",
              "                    Aveeno Japan                             6\n",
              "                    Nicorette AU                             6\n",
              "                    Rygestop med NICORETTE® Danmark          6\n",
              "                    STAYFREE® South Africa                   6\n",
              "                    ACUVUE® Lentes de Contacto               5\n",
              "                    ACUVUE® SK                               4\n",
              "                    BAND-AID Brand Adhesive Bandages         4\n",
              "                    VisionCare Japan                         4\n",
              "                    Imodium Polska                           3\n",
              "                    Aveeno Portugal                          2\n",
              "                    Carefree Canada                          2\n",
              "                    LISTERINE® México                        2\n",
              "                    Neutrogena Australia & NZ                2\n",
              "                    PEPCID®                                  2\n",
              "                    TYLENOL® Canada Brand Channel            2\n",
              "                    Tylenol Brasil                           2\n",
              "                    ACUVUE® Contact Lenses, UK & Ireland     1\n",
              "                    AVEENO UK and IRELAND                    1\n",
              "                    Aveeno Canada                            1\n",
              "                    Aveeno Indonesia                         1\n",
              "                    Aveeno Malaysia                          1\n",
              "                    LISTERINE® Ecuador                       1\n",
              "                    LISTERINE® Greece                        1\n",
              "                    Listerine® Italia                        1\n",
              "                    NeoStrata Malaysia                       1\n",
              "                    Neutrogena Perú                          1\n",
              "                    Neutrogena Portugal                      1\n",
              "                    Nicorette Canada                         1\n",
              "                    SUDAFED® UK                              1\n",
              "Name: Title, dtype: int64"
            ]
          },
          "metadata": {},
          "execution_count": 60
        }
      ]
    },
    {
      "cell_type": "markdown",
      "source": [
        "# On Country Basis-Videos without description"
      ],
      "metadata": {
        "id": "AZspHG_IT19E"
      }
    },
    {
      "cell_type": "code",
      "source": [
        "df[df[\"Description\"]==\"Description Missing\"].groupby([\"Scan_Month_of_2021\",\"Market\"])[\"Title\"].value_counts()\n",
        "#For the month of February and March with no description, \"Australia\" has the highest count for this dataset"
      ],
      "metadata": {
        "colab": {
          "base_uri": "https://localhost:8080/"
        },
        "id": "mVjxZA9kT2ma",
        "outputId": "3c8b1c9e-1eb0-4efa-8b1f-76eddaae2191"
      },
      "execution_count": null,
      "outputs": [
        {
          "output_type": "execute_result",
          "data": {
            "text/plain": [
              "Scan_Month_of_2021  Market                                               Title                           \n",
              "February            Australia                                            Neutrogena Australia & NZ           57\n",
              "                                                                         Aveeno Australia                     9\n",
              "                                                                         Nicorette AU                         4\n",
              "                                                                         Rhinocort Australia                  3\n",
              "                    Belgium                                              LISTERINE® België                    1\n",
              "                    Brazil                                               Tylenol Brasil                      10\n",
              "                                                                         semprelivrebrasil                    5\n",
              "                    Canada                                               TYLENOL® Canada Brand Channel       56\n",
              "                                                                         Aveeno Canada                        6\n",
              "                                                                         Clean & Clear Canada                 5\n",
              "                                                                         LISTERINE® Canada                    5\n",
              "                    Colombia                                             ¡Nos pasa a todas!                   2\n",
              "                    Denmark                                              Rygestop med NICORETTE® Danmark     10\n",
              "                    Ecuador                                              LISTERINE® Ecuador                   3\n",
              "                    Global                                               Piz Buin                             2\n",
              "                    Greece                                               LISTERINE® Greece                    1\n",
              "                    Hong Kong                                            Listerine HK                        13\n",
              "                                                                         Neutrogena HongKong                  9\n",
              "                                                                         Aveeno HK                            1\n",
              "                    Indonesia                                            Acuvue INA                          24\n",
              "                                                                         Neutrogena Indonesia                 1\n",
              "                    Israel                                               Listerine Israel                     4\n",
              "                    Italy                                                Listerine® Italia                    3\n",
              "                    Japan                                                VisionCare Japan                    11\n",
              "                    Malaysia                                             Clean & Clear Malaysia              11\n",
              "                    Mexico                                               Neutrogena México                   14\n",
              "                                                                         LISTERINE® México                    3\n",
              "                    Middle East                                          Imodium Middle East                  1\n",
              "                    Nordics                                              Acuvue Emea                          9\n",
              "                    Peru                                                 Neutrogena Perú                      4\n",
              "                                                                         LISTERINE® Perú                      2\n",
              "                    Portugal                                             Piz Buin ® Portugal                  1\n",
              "                    Singapore                                            Dr.Ci:Labo Singapore                 1\n",
              "                                                                         Ogx Singapore                        1\n",
              "                    Slovakia                                             ACUVUE® SK                           7\n",
              "                    South Africa                                         STAYFREE® South Africa               2\n",
              "                    Sweden                                               LISTERINE® Sverige                   2\n",
              "                    Thailand                                             Tylenol Thailand Thailand            4\n",
              "                    Turkey                                               Johnson & Johnson Vision Türkiye    21\n",
              "                                                                         Le Petit Marseillais Türkiye         5\n",
              "                                                                         LISTERINE© Türkiye                   2\n",
              "                    United Kingdom of Great Britain and Northern Island  AVEENO UK and IRELAND               11\n",
              "                                                                         NEUTROGENA® UK and Ireland           1\n",
              "                    United States of America                             PEPCID®                              4\n",
              "                                                                         BAND-AID Brand Adhesive Bandages     3\n",
              "                                                                         TYLENOLOFFICIAL                      2\n",
              "                                                                         OGX Beauty                           1\n",
              "March               Australia                                            Neutrogena Australia & NZ           57\n",
              "                                                                         Aveeno Australia                     9\n",
              "                                                                         Nicorette AU                         4\n",
              "                                                                         Rhinocort Australia                  3\n",
              "                    Belgium                                              LISTERINE® België                    1\n",
              "                    Brazil                                               Tylenol Brasil                      10\n",
              "                                                                         semprelivrebrasil                    5\n",
              "                    Canada                                               TYLENOL® Canada Brand Channel       56\n",
              "                                                                         Aveeno Canada                        6\n",
              "                                                                         Clean & Clear Canada                 5\n",
              "                                                                         LISTERINE® Canada                    5\n",
              "                    Colombia                                             ¡Nos pasa a todas!                   2\n",
              "                    Denmark                                              Rygestop med NICORETTE® Danmark     10\n",
              "                    Ecuador                                              LISTERINE® Ecuador                   3\n",
              "                    Global                                               Piz Buin                             2\n",
              "                    Greece                                               LISTERINE® Greece                    1\n",
              "                    Hong Kong                                            Listerine HK                        13\n",
              "                                                                         Neutrogena HongKong                  9\n",
              "                                                                         Aveeno HK                            1\n",
              "                    Indonesia                                            Acuvue INA                          24\n",
              "                                                                         Neutrogena Indonesia                 1\n",
              "                    Israel                                               Listerine Israel                     4\n",
              "                    Italy                                                Listerine® Italia                    3\n",
              "                    Japan                                                VisionCare Japan                    11\n",
              "                    Malaysia                                             Clean & Clear Malaysia              11\n",
              "                    Mexico                                               Neutrogena México                   14\n",
              "                                                                         LISTERINE® México                    3\n",
              "                    Middle East                                          Imodium Middle East                  1\n",
              "                    Nordics                                              Acuvue Emea                          9\n",
              "                    Peru                                                 Neutrogena Perú                      4\n",
              "                                                                         LISTERINE® Perú                      2\n",
              "                    Portugal                                             Piz Buin ® Portugal                  1\n",
              "                    Singapore                                            Dr.Ci:Labo Singapore                 1\n",
              "                                                                         Ogx Singapore                        1\n",
              "                    Slovakia                                             ACUVUE® SK                           7\n",
              "                    South Africa                                         STAYFREE® South Africa               2\n",
              "                    Sweden                                               LISTERINE® Sverige                   2\n",
              "                    Thailand                                             Tylenol Thailand Thailand            4\n",
              "                    Turkey                                               Johnson & Johnson Vision Türkiye    21\n",
              "                                                                         Le Petit Marseillais Türkiye         5\n",
              "                                                                         LISTERINE© Türkiye                   2\n",
              "                    United Kingdom of Great Britain and Northern Island  AVEENO UK and IRELAND               11\n",
              "                                                                         NEUTROGENA® UK and Ireland           1\n",
              "                    United States of America                             PEPCID®                              4\n",
              "                                                                         BAND-AID Brand Adhesive Bandages     3\n",
              "                                                                         TYLENOLOFFICIAL                      2\n",
              "                                                                         OGX Beauty                           1\n",
              "Name: Title, dtype: int64"
            ]
          },
          "metadata": {},
          "execution_count": 78
        }
      ]
    },
    {
      "cell_type": "code",
      "source": [
        "df[df[\"Description\"]==\"Description Missing\"].groupby([\"Scan_Month_of_2021\",\"Market\"])[\"Title\"].count()"
      ],
      "metadata": {
        "colab": {
          "base_uri": "https://localhost:8080/"
        },
        "id": "b2uuon5AeIS_",
        "outputId": "d1cafc56-4860-4db6-8d64-90db316ae00e"
      },
      "execution_count": null,
      "outputs": [
        {
          "output_type": "execute_result",
          "data": {
            "text/plain": [
              "Scan_Month_of_2021  Market                                             \n",
              "February            Australia                                              73\n",
              "                    Belgium                                                 1\n",
              "                    Brazil                                                 15\n",
              "                    Canada                                                 72\n",
              "                    Colombia                                                2\n",
              "                    Denmark                                                10\n",
              "                    Ecuador                                                 3\n",
              "                    Global                                                  2\n",
              "                    Greece                                                  1\n",
              "                    Hong Kong                                              23\n",
              "                    Indonesia                                              25\n",
              "                    Israel                                                  4\n",
              "                    Italy                                                   3\n",
              "                    Japan                                                  11\n",
              "                    Malaysia                                               11\n",
              "                    Mexico                                                 17\n",
              "                    Middle East                                             1\n",
              "                    Nordics                                                 9\n",
              "                    Peru                                                    6\n",
              "                    Portugal                                                1\n",
              "                    Singapore                                               2\n",
              "                    Slovakia                                                7\n",
              "                    South Africa                                            2\n",
              "                    Sweden                                                  2\n",
              "                    Thailand                                                4\n",
              "                    Turkey                                                 28\n",
              "                    United Kingdom of Great Britain and Northern Island    12\n",
              "                    United States of America                               10\n",
              "March               Australia                                              73\n",
              "                    Belgium                                                 1\n",
              "                    Brazil                                                 15\n",
              "                    Canada                                                 72\n",
              "                    Colombia                                                2\n",
              "                    Denmark                                                10\n",
              "                    Ecuador                                                 3\n",
              "                    Global                                                  2\n",
              "                    Greece                                                  1\n",
              "                    Hong Kong                                              23\n",
              "                    Indonesia                                              25\n",
              "                    Israel                                                  4\n",
              "                    Italy                                                   3\n",
              "                    Japan                                                  11\n",
              "                    Malaysia                                               11\n",
              "                    Mexico                                                 17\n",
              "                    Middle East                                             1\n",
              "                    Nordics                                                 9\n",
              "                    Peru                                                    6\n",
              "                    Portugal                                                1\n",
              "                    Singapore                                               2\n",
              "                    Slovakia                                                7\n",
              "                    South Africa                                            2\n",
              "                    Sweden                                                  2\n",
              "                    Thailand                                                4\n",
              "                    Turkey                                                 28\n",
              "                    United Kingdom of Great Britain and Northern Island    12\n",
              "                    United States of America                               10\n",
              "Name: Title, dtype: int64"
            ]
          },
          "metadata": {},
          "execution_count": 62
        }
      ]
    },
    {
      "cell_type": "markdown",
      "source": [
        "# On Country Basis-Videos with comments enabled"
      ],
      "metadata": {
        "id": "ACOyM_OqRFMr"
      }
    },
    {
      "cell_type": "code",
      "source": [
        "df[df[\"Comments\"]==\"Comments Enabled\"].groupby([\"Scan_Month_of_2021\",\"Market\"])[\"Title\"].value_counts()\n",
        "#For the month of February and March with no description, \"Saudi Arabia\" has the highest count for this dataset"
      ],
      "metadata": {
        "colab": {
          "base_uri": "https://localhost:8080/"
        },
        "id": "GLLQZJY5RKCJ",
        "outputId": "affc0989-3729-4d14-be7d-b88617403933"
      },
      "execution_count": null,
      "outputs": [
        {
          "output_type": "execute_result",
          "data": {
            "text/plain": [
              "Scan_Month_of_2021  Market                    Title                           \n",
              "February            Argentina                 Carefree® Argentina                 10\n",
              "                                              Aveno                                2\n",
              "                    Brazil                    semprelivrebrasil                   41\n",
              "                                              Tylenol Brasil                      12\n",
              "                                              OGX Beauty Brasil                    3\n",
              "                    Canada                    Aveeno Canada                       43\n",
              "                                              Pepcid Canada                       20\n",
              "                                              Nicorette Canada                    16\n",
              "                                              Clean & Clear Canada                13\n",
              "                                              Carefree Canada                     10\n",
              "                                              NEOSTRATA Canada                     2\n",
              "                                              TYLENOL® Canada Brand Channel        2\n",
              "                    Chile                     Aveeno® Chile                        1\n",
              "                    Colombia                  ¡Nos pasa a todas!                  65\n",
              "                    EMEA                      OGX EMEA                             6\n",
              "                    Ecuador                   LISTERINE® Ecuador                   8\n",
              "                    Global                    Piz Buin                             5\n",
              "                    Greece                    youtube.com/ACUVUE GREECE           73\n",
              "                    Hong Kong                 Aveeno HK                           27\n",
              "                                              Listerine HK                        17\n",
              "                    India                     Aveeno India                        14\n",
              "                    Indonesia                 Acuvue INA                          24\n",
              "                                              Neutrogena Indonesia                 4\n",
              "                                              Aveeno Indonesia                     3\n",
              "                    Japan                     Aveeno Japan                         8\n",
              "                    Malaysia                  Clean & Clear Malaysia              18\n",
              "                                              NeoStrata Malaysia                   1\n",
              "                    Mexico                    Neutrogena México                   31\n",
              "                                              LISTERINE® México                   27\n",
              "                                              Acuvue México                       11\n",
              "                                              Tylenol México                       1\n",
              "                    Middle East               Aveeno ME                            4\n",
              "                    Nordics                   Acuvue Emea                         36\n",
              "                    Peru                      Neutrogena Perú                      9\n",
              "                                              LISTERINE® Perú                      5\n",
              "                    Poland                    NEUTROGENA® POLSKA                   2\n",
              "                    Saudi Arabia              CLEAN & CLEAR® Arabia               89\n",
              "                                              Le Petit Marseillais Arabia         29\n",
              "                    Singapore                 Dr.Ci:Labo Singapore                15\n",
              "                                              Ogx Singapore                        1\n",
              "                    Thailand                  Aveeno Thailand                      4\n",
              "                                              Tylenol Thailand Thailand            2\n",
              "                    Turkey                    Johnson & Johnson Vision Türkiye    37\n",
              "                                              Le Petit Marseillais Türkiye         1\n",
              "                    United States of America  BAND-AID Brand Adhesive Bandages    27\n",
              "                                              OGX Beauty                          15\n",
              "March               Argentina                 Carefree® Argentina                 10\n",
              "                                              ACUVUE ARGENTINA                     6\n",
              "                                              Aveno                                2\n",
              "                    Brazil                    semprelivrebrasil                   41\n",
              "                                              Tylenol Brasil                      12\n",
              "                                              OGX Beauty Brasil                    3\n",
              "                    Canada                    Aveeno Canada                       43\n",
              "                                              Pepcid Canada                       20\n",
              "                                              Nicorette Canada                    16\n",
              "                                              Clean & Clear Canada                13\n",
              "                                              Carefree Canada                     10\n",
              "                                              NEOSTRATA Canada                     2\n",
              "                                              TYLENOL® Canada Brand Channel        2\n",
              "                    Chile                     Aveeno® Chile                        1\n",
              "                    Colombia                  ¡Nos pasa a todas!                  65\n",
              "                    EMEA                      OGX EMEA                             6\n",
              "                    Ecuador                   LISTERINE® Ecuador                   8\n",
              "                    Germany                   PENATEN®                             4\n",
              "                    Global                    Piz Buin                             5\n",
              "                    Greece                    youtube.com/ACUVUE GREECE           73\n",
              "                    Hong Kong                 Aveeno HK                           27\n",
              "                                              Listerine HK                        17\n",
              "                    India                     Aveeno India                        14\n",
              "                    Indonesia                 Acuvue INA                          24\n",
              "                                              Neutrogena Indonesia                 4\n",
              "                                              Aveeno Indonesia                     3\n",
              "                    Japan                     Aveeno Japan                         8\n",
              "                    Malaysia                  Clean & Clear Malaysia              18\n",
              "                                              Aveeno Malaysia                      9\n",
              "                                              NeoStrata Malaysia                   1\n",
              "                    Mexico                    Neutrogena México                   31\n",
              "                                              LISTERINE® México                   27\n",
              "                                              Acuvue México                       11\n",
              "                                              Tylenol México                       1\n",
              "                    Middle East               Aveeno ME                            4\n",
              "                    Nordics                   Acuvue Emea                         36\n",
              "                    Peru                      Neutrogena Perú                      9\n",
              "                                              LISTERINE® Perú                      5\n",
              "                    Poland                    NEUTROGENA® POLSKA                   2\n",
              "                    Saudi Arabia              CLEAN & CLEAR® Arabia               89\n",
              "                                              Le Petit Marseillais Arabia         29\n",
              "                    Singapore                 Dr.Ci:Labo Singapore                15\n",
              "                                              Ogx Singapore                        1\n",
              "                    Thailand                  Aveeno Thailand                      4\n",
              "                                              Tylenol Thailand Thailand            2\n",
              "                    Turkey                    Johnson & Johnson Vision Türkiye    37\n",
              "                                              Le Petit Marseillais Türkiye         1\n",
              "                    United States of America  BAND-AID Brand Adhesive Bandages    27\n",
              "                                              OGX Beauty                          15\n",
              "Name: Title, dtype: int64"
            ]
          },
          "metadata": {},
          "execution_count": 84
        }
      ]
    },
    {
      "cell_type": "markdown",
      "source": [
        "# On Country Basis-Channels without location"
      ],
      "metadata": {
        "id": "OW1lRl9YRws3"
      }
    },
    {
      "cell_type": "code",
      "source": [
        "df[df[\"Location\"]==\"No Location\"].groupby([\"Scan_Month_of_2021\",\"Market\"])[\"Title\"].value_counts()\n",
        "#For the month of February and March with no location, \"Australia\" has the highest count for this dataset"
      ],
      "metadata": {
        "colab": {
          "base_uri": "https://localhost:8080/"
        },
        "id": "zFDf-yVXRyWn",
        "outputId": "ea3db054-1e55-41d6-e9b9-4ca0bbd9e5ff"
      },
      "execution_count": null,
      "outputs": [
        {
          "output_type": "execute_result",
          "data": {
            "text/plain": [
              "Scan_Month_of_2021  Market                                               Title                           \n",
              "February            Argentina                                            Aveno                                2\n",
              "                    Australia                                            Neutrogena Australia & NZ           94\n",
              "                                                                         Nicorette AU                        57\n",
              "                                                                         Rhinocort Australia                  3\n",
              "                    Belgium                                              LISTERINE® België                    1\n",
              "                    Brazil                                               Tylenol Brasil                      12\n",
              "                                                                         OGX Beauty Brasil                    3\n",
              "                    Canada                                               Clean & Clear Canada                33\n",
              "                                                                         Nicorette Canada                    23\n",
              "                    Chile                                                ACUVUE® Lentes de Contacto          25\n",
              "                    Czechia                                              LISTERINE CZ                         2\n",
              "                    Denmark                                              Rygestop med NICORETTE® Danmark     66\n",
              "                    EMEA                                                 OGX EMEA                             6\n",
              "                    Global                                               Piz Buin                             5\n",
              "                    Greece                                               youtube.com/ACUVUE GREECE           74\n",
              "                                                                         LISTERINE® Greece                   16\n",
              "                                                                         Nicorette GR                        15\n",
              "                    Hong Kong                                            Neutrogena HongKong                 79\n",
              "                    India                                                Aveeno India                        15\n",
              "                    Indonesia                                            Aveeno Indonesia                     3\n",
              "                    Israel                                               Listerine Israel                    12\n",
              "                    Japan                                                VisionCare Japan                    35\n",
              "                    Korea, Republic of                                   Tylenol Korea                       35\n",
              "                    Malaysia                                             Clean & Clear Malaysia              18\n",
              "                                                                         NeoStrata Malaysia                   1\n",
              "                    Mexico                                               Neutrogena México                   31\n",
              "                                                                         LISTERINE® México                   27\n",
              "                    Middle East                                          Imodium Middle East                  1\n",
              "                    Nordics                                              Acuvue Emea                         36\n",
              "                    Philippines                                          Neutrogena PH                        5\n",
              "                    Poland                                               NEUTROGENA® POLSKA                  39\n",
              "                    Portugal                                             Neutrogena Portugal                  6\n",
              "                                                                         Nicorette Portugal                   4\n",
              "                                                                         Aveeno Portugal                      2\n",
              "                    Saudi Arabia                                         CLEAN & CLEAR® Arabia               97\n",
              "                    Singapore                                            Dr.Ci:Labo Singapore                15\n",
              "                                                                         Ogx Singapore                        1\n",
              "                    Slovakia                                             ACUVUE® SK                          10\n",
              "                    Sweden                                               LISTERINE® Sverige                   6\n",
              "                    Thailand                                             Tylenol Thailand Thailand            9\n",
              "                    United Kingdom of Great Britain and Northern Island  NEUTROGENA® UK and Ireland          18\n",
              "                                                                         SUDAFED® UK                         10\n",
              "                    United States of America                             BAND-AID Brand Adhesive Bandages    27\n",
              "                                                                         PEPCID®                             17\n",
              "                                                                         MOTRIN®                             12\n",
              "                                                                         VISINEOfficial                       4\n",
              "                                                                         SUDAFED®                             2\n",
              "                                                                         Lubriderm USA                        1\n",
              "March               Argentina                                            Aveno                                2\n",
              "                    Australia                                            Neutrogena Australia & NZ           94\n",
              "                                                                         Nicorette AU                        57\n",
              "                                                                         Rhinocort Australia                  3\n",
              "                    Belgium                                              LISTERINE® België                    1\n",
              "                    Brazil                                               Tylenol Brasil                      12\n",
              "                                                                         OGX Beauty Brasil                    3\n",
              "                    Canada                                               Clean & Clear Canada                33\n",
              "                                                                         Nicorette Canada                    23\n",
              "                    Chile                                                ACUVUE® Lentes de Contacto          25\n",
              "                    Czechia                                              LISTERINE CZ                         2\n",
              "                    Denmark                                              Rygestop med NICORETTE® Danmark     66\n",
              "                    EMEA                                                 OGX EMEA                             6\n",
              "                    Global                                               Piz Buin                             5\n",
              "                    Greece                                               youtube.com/ACUVUE GREECE           74\n",
              "                                                                         LISTERINE® Greece                   16\n",
              "                                                                         Nicorette GR                        15\n",
              "                    Hong Kong                                            Neutrogena HongKong                 79\n",
              "                    India                                                Aveeno India                        15\n",
              "                    Indonesia                                            Aveeno Indonesia                     3\n",
              "                    Israel                                               Listerine Israel                    12\n",
              "                    Japan                                                VisionCare Japan                    35\n",
              "                    Korea, Republic of                                   Tylenol Korea                       35\n",
              "                    Malaysia                                             Clean & Clear Malaysia              18\n",
              "                                                                         Aveeno Malaysia                      9\n",
              "                                                                         NeoStrata Malaysia                   1\n",
              "                    Mexico                                               Neutrogena México                   31\n",
              "                                                                         LISTERINE® México                   27\n",
              "                    Middle East                                          Imodium Middle East                  1\n",
              "                    Nordics                                              Acuvue Emea                         36\n",
              "                    Philippines                                          Neutrogena PH                        5\n",
              "                    Poland                                               NEUTROGENA® POLSKA                  39\n",
              "                    Portugal                                             Neutrogena Portugal                  6\n",
              "                                                                         Nicorette Portugal                   4\n",
              "                                                                         Aveeno Portugal                      2\n",
              "                    Saudi Arabia                                         CLEAN & CLEAR® Arabia               97\n",
              "                    Singapore                                            Dr.Ci:Labo Singapore                15\n",
              "                                                                         Ogx Singapore                        1\n",
              "                    Slovakia                                             ACUVUE® SK                          10\n",
              "                    Sweden                                               LISTERINE® Sverige                   6\n",
              "                    Thailand                                             Tylenol Thailand Thailand            9\n",
              "                    United Kingdom of Great Britain and Northern Island  NEUTROGENA® UK and Ireland          18\n",
              "                                                                         SUDAFED® UK                         10\n",
              "                    United States of America                             BAND-AID Brand Adhesive Bandages    27\n",
              "                                                                         PEPCID®                             17\n",
              "                                                                         MOTRIN®                             12\n",
              "                                                                         VISINEOfficial                       4\n",
              "                                                                         SUDAFED®                             2\n",
              "                                                                         Lubriderm USA                        1\n",
              "Name: Title, dtype: int64"
            ]
          },
          "metadata": {},
          "execution_count": 64
        }
      ]
    },
    {
      "cell_type": "code",
      "source": [
        "df[df[\"Location\"]==\"No Location\"].groupby([\"Scan_Month_of_2021\",\"Market\"])[\"Title\"].count()"
      ],
      "metadata": {
        "colab": {
          "base_uri": "https://localhost:8080/"
        },
        "id": "2bDYSA9xeo4L",
        "outputId": "cc65a9ea-80e5-4ee8-c96f-d123ff97dfd8"
      },
      "execution_count": null,
      "outputs": [
        {
          "output_type": "execute_result",
          "data": {
            "text/plain": [
              "Scan_Month_of_2021  Market                                             \n",
              "February            Argentina                                                2\n",
              "                    Australia                                              154\n",
              "                    Belgium                                                  1\n",
              "                    Brazil                                                  15\n",
              "                    Canada                                                  56\n",
              "                    Chile                                                   25\n",
              "                    Czechia                                                  2\n",
              "                    Denmark                                                 66\n",
              "                    EMEA                                                     6\n",
              "                    Global                                                   5\n",
              "                    Greece                                                 105\n",
              "                    Hong Kong                                               79\n",
              "                    India                                                   15\n",
              "                    Indonesia                                                3\n",
              "                    Israel                                                  12\n",
              "                    Japan                                                   35\n",
              "                    Korea, Republic of                                      35\n",
              "                    Malaysia                                                19\n",
              "                    Mexico                                                  58\n",
              "                    Middle East                                              1\n",
              "                    Nordics                                                 36\n",
              "                    Philippines                                              5\n",
              "                    Poland                                                  39\n",
              "                    Portugal                                                12\n",
              "                    Saudi Arabia                                            97\n",
              "                    Singapore                                               16\n",
              "                    Slovakia                                                10\n",
              "                    Sweden                                                   6\n",
              "                    Thailand                                                 9\n",
              "                    United Kingdom of Great Britain and Northern Island     28\n",
              "                    United States of America                                63\n",
              "March               Argentina                                                2\n",
              "                    Australia                                              154\n",
              "                    Belgium                                                  1\n",
              "                    Brazil                                                  15\n",
              "                    Canada                                                  56\n",
              "                    Chile                                                   25\n",
              "                    Czechia                                                  2\n",
              "                    Denmark                                                 66\n",
              "                    EMEA                                                     6\n",
              "                    Global                                                   5\n",
              "                    Greece                                                 105\n",
              "                    Hong Kong                                               79\n",
              "                    India                                                   15\n",
              "                    Indonesia                                                3\n",
              "                    Israel                                                  12\n",
              "                    Japan                                                   35\n",
              "                    Korea, Republic of                                      35\n",
              "                    Malaysia                                                28\n",
              "                    Mexico                                                  58\n",
              "                    Middle East                                              1\n",
              "                    Nordics                                                 36\n",
              "                    Philippines                                              5\n",
              "                    Poland                                                  39\n",
              "                    Portugal                                                12\n",
              "                    Saudi Arabia                                            97\n",
              "                    Singapore                                               16\n",
              "                    Slovakia                                                10\n",
              "                    Sweden                                                   6\n",
              "                    Thailand                                                 9\n",
              "                    United Kingdom of Great Britain and Northern Island     28\n",
              "                    United States of America                                63\n",
              "Name: Title, dtype: int64"
            ]
          },
          "metadata": {},
          "execution_count": 65
        }
      ]
    },
    {
      "cell_type": "markdown",
      "source": [
        "# On Country Basis- Videos with less than 100"
      ],
      "metadata": {
        "id": "MhJjCsleSmq2"
      }
    },
    {
      "cell_type": "code",
      "source": [
        "df[df[\"Views\"]<100].groupby([\"Scan_Month_of_2021\",\"Market\"])[\"Title\"].value_counts()\n",
        "#For the month of February and March with views less than 100, \"Greece\" has the highest count for this dataset"
      ],
      "metadata": {
        "colab": {
          "base_uri": "https://localhost:8080/"
        },
        "id": "q6h7aESFSywi",
        "outputId": "2c993186-c250-4bf7-8536-72595fd34500"
      },
      "execution_count": null,
      "outputs": [
        {
          "output_type": "execute_result",
          "data": {
            "text/plain": [
              "Scan_Month_of_2021  Market                                               Title                               \n",
              "February            Australia                                            Nicorette AU                             6\n",
              "                                                                         Neutrogena Australia & NZ                2\n",
              "                    Brazil                                               Tylenol Brasil                           2\n",
              "                    Canada                                               LISTERINE® Canada                        9\n",
              "                                                                         Carefree Canada                          2\n",
              "                                                                         TYLENOL® Canada Brand Channel            2\n",
              "                                                                         Aveeno Canada                            1\n",
              "                                                                         Nicorette Canada                         1\n",
              "                    Chile                                                ACUVUE® Lentes de Contacto               5\n",
              "                    Denmark                                              Rygestop med NICORETTE® Danmark          6\n",
              "                    Ecuador                                              LISTERINE® Ecuador                       1\n",
              "                    Greece                                               youtube.com/ACUVUE GREECE               69\n",
              "                                                                         LISTERINE® Greece                        1\n",
              "                    Indonesia                                            Acuvue INA                              12\n",
              "                                                                         Aveeno Indonesia                         1\n",
              "                    Italy                                                ACUVUE® Italia                          12\n",
              "                                                                         Listerine® Italia                        1\n",
              "                    Japan                                                Aveeno Japan                             6\n",
              "                                                                         VisionCare Japan                         4\n",
              "                    Malaysia                                             NeoStrata Malaysia                       1\n",
              "                    Mexico                                               Acuvue México                            8\n",
              "                                                                         LISTERINE® México                        2\n",
              "                    Nordics                                              Acuvue Emea                             33\n",
              "                    Peru                                                 Neutrogena Perú                          1\n",
              "                    Poland                                               Imodium Polska                           3\n",
              "                    Portugal                                             Aveeno Portugal                          2\n",
              "                                                                         Neutrogena Portugal                      1\n",
              "                    Slovakia                                             ACUVUE® SK                               4\n",
              "                    South Africa                                         STAYFREE® South Africa                   6\n",
              "                    Turkey                                               Johnson & Johnson Vision Türkiye        27\n",
              "                    United Kingdom of Great Britain and Northern Island  ACUVUE® Contact Lenses, UK & Ireland     1\n",
              "                                                                         AVEENO UK and IRELAND                    1\n",
              "                                                                         SUDAFED® UK                              1\n",
              "                    United States of America                             BAND-AID Brand Adhesive Bandages         4\n",
              "                                                                         PEPCID®                                  2\n",
              "March               Argentina                                            ACUVUE ARGENTINA                        12\n",
              "                    Australia                                            Nicorette AU                             6\n",
              "                                                                         Neutrogena Australia & NZ                2\n",
              "                    Brazil                                               Tylenol Brasil                           2\n",
              "                    Canada                                               LISTERINE® Canada                        9\n",
              "                                                                         Carefree Canada                          2\n",
              "                                                                         TYLENOL® Canada Brand Channel            2\n",
              "                                                                         Aveeno Canada                            1\n",
              "                                                                         Nicorette Canada                         1\n",
              "                    Chile                                                ACUVUE® Lentes de Contacto               5\n",
              "                    Denmark                                              Rygestop med NICORETTE® Danmark          6\n",
              "                    Ecuador                                              LISTERINE® Ecuador                       1\n",
              "                    Greece                                               youtube.com/ACUVUE GREECE               69\n",
              "                                                                         LISTERINE® Greece                        1\n",
              "                    Indonesia                                            Acuvue INA                              12\n",
              "                                                                         Aveeno Indonesia                         1\n",
              "                    Italy                                                ACUVUE® Italia                          12\n",
              "                                                                         Listerine® Italia                        1\n",
              "                    Japan                                                Aveeno Japan                             6\n",
              "                                                                         VisionCare Japan                         4\n",
              "                    Malaysia                                             Aveeno Malaysia                          1\n",
              "                                                                         NeoStrata Malaysia                       1\n",
              "                    Mexico                                               Acuvue México                            8\n",
              "                                                                         LISTERINE® México                        2\n",
              "                    Nordics                                              Acuvue Emea                             33\n",
              "                    Peru                                                 Neutrogena Perú                          1\n",
              "                    Poland                                               Imodium Polska                           3\n",
              "                    Portugal                                             Aveeno Portugal                          2\n",
              "                                                                         Neutrogena Portugal                      1\n",
              "                    Slovakia                                             ACUVUE® SK                               4\n",
              "                    South Africa                                         STAYFREE® South Africa                   6\n",
              "                    Turkey                                               Johnson & Johnson Vision Türkiye        27\n",
              "                    United Kingdom of Great Britain and Northern Island  ACUVUE® Contact Lenses, UK & Ireland     1\n",
              "                                                                         AVEENO UK and IRELAND                    1\n",
              "                                                                         SUDAFED® UK                              1\n",
              "                    United States of America                             BAND-AID Brand Adhesive Bandages         4\n",
              "                                                                         PEPCID®                                  2\n",
              "Name: Title, dtype: int64"
            ]
          },
          "metadata": {},
          "execution_count": 66
        }
      ]
    },
    {
      "cell_type": "code",
      "source": [
        "df[df[\"Views\"]<100].groupby([\"Scan_Month_of_2021\",\"Market\"])[\"Title\"].count()"
      ],
      "metadata": {
        "colab": {
          "base_uri": "https://localhost:8080/"
        },
        "id": "nZK3gYBJe9oL",
        "outputId": "bdaeaac5-e8df-4c5e-8e59-e91cb1f15742"
      },
      "execution_count": null,
      "outputs": [
        {
          "output_type": "execute_result",
          "data": {
            "text/plain": [
              "Scan_Month_of_2021  Market                                             \n",
              "February            Australia                                               8\n",
              "                    Brazil                                                  2\n",
              "                    Canada                                                 15\n",
              "                    Chile                                                   5\n",
              "                    Denmark                                                 6\n",
              "                    Ecuador                                                 1\n",
              "                    Greece                                                 70\n",
              "                    Indonesia                                              13\n",
              "                    Italy                                                  13\n",
              "                    Japan                                                  10\n",
              "                    Malaysia                                                1\n",
              "                    Mexico                                                 10\n",
              "                    Nordics                                                33\n",
              "                    Peru                                                    1\n",
              "                    Poland                                                  3\n",
              "                    Portugal                                                3\n",
              "                    Slovakia                                                4\n",
              "                    South Africa                                            6\n",
              "                    Turkey                                                 27\n",
              "                    United Kingdom of Great Britain and Northern Island     3\n",
              "                    United States of America                                6\n",
              "March               Argentina                                              12\n",
              "                    Australia                                               8\n",
              "                    Brazil                                                  2\n",
              "                    Canada                                                 15\n",
              "                    Chile                                                   5\n",
              "                    Denmark                                                 6\n",
              "                    Ecuador                                                 1\n",
              "                    Greece                                                 70\n",
              "                    Indonesia                                              13\n",
              "                    Italy                                                  13\n",
              "                    Japan                                                  10\n",
              "                    Malaysia                                                2\n",
              "                    Mexico                                                 10\n",
              "                    Nordics                                                33\n",
              "                    Peru                                                    1\n",
              "                    Poland                                                  3\n",
              "                    Portugal                                                3\n",
              "                    Slovakia                                                4\n",
              "                    South Africa                                            6\n",
              "                    Turkey                                                 27\n",
              "                    United Kingdom of Great Britain and Northern Island     3\n",
              "                    United States of America                                6\n",
              "Name: Title, dtype: int64"
            ]
          },
          "metadata": {},
          "execution_count": 67
        }
      ]
    },
    {
      "cell_type": "markdown",
      "source": [
        "# On Brand Basis-Videos without description"
      ],
      "metadata": {
        "id": "t4EU8IXLfXqR"
      }
    },
    {
      "cell_type": "code",
      "source": [
        "df[df[\"Description\"]==\"Description Missing\"].groupby([\"Scan_Month_of_2021\",\"Brand\"])[\"Title\"].value_counts()\n",
        "#For the month of February and March with no description, \"NOUTROGENA\" has the highest count for this dataset"
      ],
      "metadata": {
        "colab": {
          "base_uri": "https://localhost:8080/"
        },
        "id": "gO382BjtgEeQ",
        "outputId": "92c64813-873e-48b4-b86a-ce40d928ffb7"
      },
      "execution_count": null,
      "outputs": [
        {
          "output_type": "execute_result",
          "data": {
            "text/plain": [
              "Scan_Month_of_2021  Brand               Title                           \n",
              "February            ACUVUE              Acuvue INA                          24\n",
              "                                        Johnson & Johnson Vision Türkiye    21\n",
              "                                        VisionCare Japan                    11\n",
              "                                        Acuvue Emea                          9\n",
              "                                        ACUVUE® SK                           7\n",
              "                    AVEENO              AVEENO UK and IRELAND               11\n",
              "                                        Aveeno Australia                     9\n",
              "                                        Aveeno Canada                        6\n",
              "                                        Aveeno HK                            1\n",
              "                    BAND-AID            BAND-AID Brand Adhesive Bandages     3\n",
              "                    CAREFREE            ¡Nos pasa a todas!                   2\n",
              "                    CLEAN&CLEAR         Clean & Clear Malaysia              11\n",
              "                                        Clean & Clear Canada                 5\n",
              "                    DR.CI:LABO          Dr.Ci:Labo Singapore                 1\n",
              "                    IMODIUM             Imodium Middle East                  1\n",
              "                    LEPETITMARSEILLAIS  Le Petit Marseillais Türkiye         5\n",
              "                    LISTERINE           Listerine HK                        13\n",
              "                                        LISTERINE® Canada                    5\n",
              "                                        Listerine Israel                     4\n",
              "                                        LISTERINE® Ecuador                   3\n",
              "                                        LISTERINE® México                    3\n",
              "                                        Listerine® Italia                    3\n",
              "                                        LISTERINE© Türkiye                   2\n",
              "                                        LISTERINE® Perú                      2\n",
              "                                        LISTERINE® Sverige                   2\n",
              "                                        LISTERINE® België                    1\n",
              "                                        LISTERINE® Greece                    1\n",
              "                    NEUTROGENA          Neutrogena Australia & NZ           57\n",
              "                                        Neutrogena México                   14\n",
              "                                        Neutrogena HongKong                  9\n",
              "                                        Neutrogena Perú                      4\n",
              "                                        NEUTROGENA® UK and Ireland           1\n",
              "                                        Neutrogena Indonesia                 1\n",
              "                    NICORETTE           Rygestop med NICORETTE® Danmark     10\n",
              "                                        Nicorette AU                         4\n",
              "                    OGX                 OGX Beauty                           1\n",
              "                                        Ogx Singapore                        1\n",
              "                    PEPCID              PEPCID®                              4\n",
              "                    PIZ BUIN            Piz Buin                             2\n",
              "                                        Piz Buin ® Portugal                  1\n",
              "                    RHINOCORT           Rhinocort Australia                  3\n",
              "                    STAYFREE            semprelivrebrasil                    5\n",
              "                                        STAYFREE® South Africa               2\n",
              "                    TYLENOL             TYLENOL® Canada Brand Channel       56\n",
              "                                        Tylenol Brasil                      10\n",
              "                                        Tylenol Thailand Thailand            4\n",
              "                                        TYLENOLOFFICIAL                      2\n",
              "March               ACUVUE              Acuvue INA                          24\n",
              "                                        Johnson & Johnson Vision Türkiye    21\n",
              "                                        VisionCare Japan                    11\n",
              "                                        Acuvue Emea                          9\n",
              "                                        ACUVUE® SK                           7\n",
              "                    AVEENO              AVEENO UK and IRELAND               11\n",
              "                                        Aveeno Australia                     9\n",
              "                                        Aveeno Canada                        6\n",
              "                                        Aveeno HK                            1\n",
              "                    BAND-AID            BAND-AID Brand Adhesive Bandages     3\n",
              "                    CAREFREE            ¡Nos pasa a todas!                   2\n",
              "                    CLEAN&CLEAR         Clean & Clear Malaysia              11\n",
              "                                        Clean & Clear Canada                 5\n",
              "                    DR.CI:LABO          Dr.Ci:Labo Singapore                 1\n",
              "                    IMODIUM             Imodium Middle East                  1\n",
              "                    LEPETITMARSEILLAIS  Le Petit Marseillais Türkiye         5\n",
              "                    LISTERINE           Listerine HK                        13\n",
              "                                        LISTERINE® Canada                    5\n",
              "                                        Listerine Israel                     4\n",
              "                                        LISTERINE® Ecuador                   3\n",
              "                                        LISTERINE® México                    3\n",
              "                                        Listerine® Italia                    3\n",
              "                                        LISTERINE© Türkiye                   2\n",
              "                                        LISTERINE® Perú                      2\n",
              "                                        LISTERINE® Sverige                   2\n",
              "                                        LISTERINE® België                    1\n",
              "                                        LISTERINE® Greece                    1\n",
              "                    NEUTROGENA          Neutrogena Australia & NZ           57\n",
              "                                        Neutrogena México                   14\n",
              "                                        Neutrogena HongKong                  9\n",
              "                                        Neutrogena Perú                      4\n",
              "                                        NEUTROGENA® UK and Ireland           1\n",
              "                                        Neutrogena Indonesia                 1\n",
              "                    NICORETTE           Rygestop med NICORETTE® Danmark     10\n",
              "                                        Nicorette AU                         4\n",
              "                    OGX                 OGX Beauty                           1\n",
              "                                        Ogx Singapore                        1\n",
              "                    PEPCID              PEPCID®                              4\n",
              "                    PIZ BUIN            Piz Buin                             2\n",
              "                                        Piz Buin ® Portugal                  1\n",
              "                    RHINOCORT           Rhinocort Australia                  3\n",
              "                    STAYFREE            semprelivrebrasil                    5\n",
              "                                        STAYFREE® South Africa               2\n",
              "                    TYLENOL             TYLENOL® Canada Brand Channel       56\n",
              "                                        Tylenol Brasil                      10\n",
              "                                        Tylenol Thailand Thailand            4\n",
              "                                        TYLENOLOFFICIAL                      2\n",
              "Name: Title, dtype: int64"
            ]
          },
          "metadata": {},
          "execution_count": 68
        }
      ]
    },
    {
      "cell_type": "code",
      "source": [
        "df[df[\"Description\"]==\"Description Missing\"].groupby([\"Scan_Month_of_2021\",\"Brand\"])[\"Title\"].count()"
      ],
      "metadata": {
        "colab": {
          "base_uri": "https://localhost:8080/"
        },
        "id": "DsdEmg1bgTqn",
        "outputId": "c19a59ae-fdc4-48d7-c38d-fdb5b31b04c3"
      },
      "execution_count": null,
      "outputs": [
        {
          "output_type": "execute_result",
          "data": {
            "text/plain": [
              "Scan_Month_of_2021  Brand             \n",
              "February            ACUVUE                72\n",
              "                    AVEENO                27\n",
              "                    BAND-AID               3\n",
              "                    CAREFREE               2\n",
              "                    CLEAN&CLEAR           16\n",
              "                    DR.CI:LABO             1\n",
              "                    IMODIUM                1\n",
              "                    LEPETITMARSEILLAIS     5\n",
              "                    LISTERINE             39\n",
              "                    NEUTROGENA            86\n",
              "                    NICORETTE             14\n",
              "                    OGX                    2\n",
              "                    PEPCID                 4\n",
              "                    PIZ BUIN               3\n",
              "                    RHINOCORT              3\n",
              "                    STAYFREE               7\n",
              "                    TYLENOL               72\n",
              "March               ACUVUE                72\n",
              "                    AVEENO                27\n",
              "                    BAND-AID               3\n",
              "                    CAREFREE               2\n",
              "                    CLEAN&CLEAR           16\n",
              "                    DR.CI:LABO             1\n",
              "                    IMODIUM                1\n",
              "                    LEPETITMARSEILLAIS     5\n",
              "                    LISTERINE             39\n",
              "                    NEUTROGENA            86\n",
              "                    NICORETTE             14\n",
              "                    OGX                    2\n",
              "                    PEPCID                 4\n",
              "                    PIZ BUIN               3\n",
              "                    RHINOCORT              3\n",
              "                    STAYFREE               7\n",
              "                    TYLENOL               72\n",
              "Name: Title, dtype: int64"
            ]
          },
          "metadata": {},
          "execution_count": 69
        }
      ]
    },
    {
      "cell_type": "markdown",
      "source": [
        "# On Brand Basis-Videos with comments enabled"
      ],
      "metadata": {
        "id": "vYRH1J5IgjDd"
      }
    },
    {
      "cell_type": "code",
      "source": [
        "df[df[\"Comments\"]==\"Comments Enabled\"].groupby([\"Scan_Month_of_2021\",\"Brand\"])[\"Title\"].value_counts()\n",
        "#For the month of February and March with no comments enabled, \"ACUVUE\" has the highest count for this dataset"
      ],
      "metadata": {
        "colab": {
          "base_uri": "https://localhost:8080/"
        },
        "id": "LzQ25_Z2gkuk",
        "outputId": "4bea5dc0-7b2a-4573-bc43-4b4783ef16ee"
      },
      "execution_count": null,
      "outputs": [
        {
          "output_type": "execute_result",
          "data": {
            "text/plain": [
              "Scan_Month_of_2021  Brand               Title                           \n",
              "February            ACUVUE              youtube.com/ACUVUE GREECE           73\n",
              "                                        Johnson & Johnson Vision Türkiye    37\n",
              "                                        Acuvue Emea                         36\n",
              "                                        Acuvue INA                          24\n",
              "                                        Acuvue México                       11\n",
              "                    AVEENO              Aveeno Canada                       43\n",
              "                                        Aveeno HK                           27\n",
              "                                        Aveeno India                        14\n",
              "                                        Aveeno Japan                         8\n",
              "                                        Aveeno ME                            4\n",
              "                                        Aveeno Thailand                      4\n",
              "                                        Aveeno Indonesia                     3\n",
              "                                        Aveno                                2\n",
              "                                        Aveeno® Chile                        1\n",
              "                    BAND-AID            BAND-AID Brand Adhesive Bandages    27\n",
              "                    CAREFREE            ¡Nos pasa a todas!                  65\n",
              "                                        Carefree Canada                     10\n",
              "                                        Carefree® Argentina                 10\n",
              "                    CLEAN&CLEAR         CLEAN & CLEAR® Arabia               89\n",
              "                                        Clean & Clear Malaysia              18\n",
              "                                        Clean & Clear Canada                13\n",
              "                    DR.CI:LABO          Dr.Ci:Labo Singapore                15\n",
              "                    LEPETITMARSEILLAIS  Le Petit Marseillais Arabia         29\n",
              "                                        Le Petit Marseillais Türkiye         1\n",
              "                    LISTERINE           LISTERINE® México                   27\n",
              "                                        Listerine HK                        17\n",
              "                                        LISTERINE® Ecuador                   8\n",
              "                                        LISTERINE® Perú                      5\n",
              "                    NEOSTRATA           NEOSTRATA Canada                     2\n",
              "                                        NeoStrata Malaysia                   1\n",
              "                    NEUTROGENA          Neutrogena México                   31\n",
              "                                        Neutrogena Perú                      9\n",
              "                                        Neutrogena Indonesia                 4\n",
              "                                        NEUTROGENA® POLSKA                   2\n",
              "                    NICORETTE           Nicorette Canada                    16\n",
              "                    OGX                 OGX Beauty                          15\n",
              "                                        OGX EMEA                             6\n",
              "                                        OGX Beauty Brasil                    3\n",
              "                                        Ogx Singapore                        1\n",
              "                    PEPCID              Pepcid Canada                       20\n",
              "                    PIZ BUIN            Piz Buin                             5\n",
              "                    STAYFREE            semprelivrebrasil                   41\n",
              "                    TYLENOL             Tylenol Brasil                      12\n",
              "                                        TYLENOL® Canada Brand Channel        2\n",
              "                                        Tylenol Thailand Thailand            2\n",
              "                                        Tylenol México                       1\n",
              "March               ACUVUE              youtube.com/ACUVUE GREECE           73\n",
              "                                        Johnson & Johnson Vision Türkiye    37\n",
              "                                        Acuvue Emea                         36\n",
              "                                        Acuvue INA                          24\n",
              "                                        Acuvue México                       11\n",
              "                                        ACUVUE ARGENTINA                     6\n",
              "                    AVEENO              Aveeno Canada                       43\n",
              "                                        Aveeno HK                           27\n",
              "                                        Aveeno India                        14\n",
              "                                        Aveeno Malaysia                      9\n",
              "                                        Aveeno Japan                         8\n",
              "                                        Aveeno ME                            4\n",
              "                                        Aveeno Thailand                      4\n",
              "                                        Aveeno Indonesia                     3\n",
              "                                        Aveno                                2\n",
              "                                        Aveeno® Chile                        1\n",
              "                    BAND-AID            BAND-AID Brand Adhesive Bandages    27\n",
              "                    CAREFREE            ¡Nos pasa a todas!                  65\n",
              "                                        Carefree Canada                     10\n",
              "                                        Carefree® Argentina                 10\n",
              "                    CLEAN&CLEAR         CLEAN & CLEAR® Arabia               89\n",
              "                                        Clean & Clear Malaysia              18\n",
              "                                        Clean & Clear Canada                13\n",
              "                    DR.CI:LABO          Dr.Ci:Labo Singapore                15\n",
              "                    LEPETITMARSEILLAIS  Le Petit Marseillais Arabia         29\n",
              "                                        Le Petit Marseillais Türkiye         1\n",
              "                    LISTERINE           LISTERINE® México                   27\n",
              "                                        Listerine HK                        17\n",
              "                                        LISTERINE® Ecuador                   8\n",
              "                                        LISTERINE® Perú                      5\n",
              "                    NEOSTRATA           NEOSTRATA Canada                     2\n",
              "                                        NeoStrata Malaysia                   1\n",
              "                    NEUTROGENA          Neutrogena México                   31\n",
              "                                        Neutrogena Perú                      9\n",
              "                                        Neutrogena Indonesia                 4\n",
              "                                        NEUTROGENA® POLSKA                   2\n",
              "                    NICORETTE           Nicorette Canada                    16\n",
              "                    OGX                 OGX Beauty                          15\n",
              "                                        OGX EMEA                             6\n",
              "                                        OGX Beauty Brasil                    3\n",
              "                                        Ogx Singapore                        1\n",
              "                    PENATEN             PENATEN®                             4\n",
              "                    PEPCID              Pepcid Canada                       20\n",
              "                    PIZ BUIN            Piz Buin                             5\n",
              "                    STAYFREE            semprelivrebrasil                   41\n",
              "                    TYLENOL             Tylenol Brasil                      12\n",
              "                                        TYLENOL® Canada Brand Channel        2\n",
              "                                        Tylenol Thailand Thailand            2\n",
              "                                        Tylenol México                       1\n",
              "Name: Title, dtype: int64"
            ]
          },
          "metadata": {},
          "execution_count": 70
        }
      ]
    },
    {
      "cell_type": "code",
      "source": [
        "df[df[\"Comments\"]==\"Comments Enabled\"].groupby([\"Scan_Month_of_2021\",\"Brand\"])[\"Title\"].count()"
      ],
      "metadata": {
        "colab": {
          "base_uri": "https://localhost:8080/"
        },
        "id": "6fCSp-Mug5Rs",
        "outputId": "027afa8e-c430-4601-c551-a97d28447bfb"
      },
      "execution_count": null,
      "outputs": [
        {
          "output_type": "execute_result",
          "data": {
            "text/plain": [
              "Scan_Month_of_2021  Brand             \n",
              "February            ACUVUE                181\n",
              "                    AVEENO                106\n",
              "                    BAND-AID               27\n",
              "                    CAREFREE               85\n",
              "                    CLEAN&CLEAR           120\n",
              "                    DR.CI:LABO             15\n",
              "                    LEPETITMARSEILLAIS     30\n",
              "                    LISTERINE              57\n",
              "                    NEOSTRATA               3\n",
              "                    NEUTROGENA             46\n",
              "                    NICORETTE              16\n",
              "                    OGX                    25\n",
              "                    PEPCID                 20\n",
              "                    PIZ BUIN                5\n",
              "                    STAYFREE               41\n",
              "                    TYLENOL                17\n",
              "March               ACUVUE                187\n",
              "                    AVEENO                115\n",
              "                    BAND-AID               27\n",
              "                    CAREFREE               85\n",
              "                    CLEAN&CLEAR           120\n",
              "                    DR.CI:LABO             15\n",
              "                    LEPETITMARSEILLAIS     30\n",
              "                    LISTERINE              57\n",
              "                    NEOSTRATA               3\n",
              "                    NEUTROGENA             46\n",
              "                    NICORETTE              16\n",
              "                    OGX                    25\n",
              "                    PENATEN                 4\n",
              "                    PEPCID                 20\n",
              "                    PIZ BUIN                5\n",
              "                    STAYFREE               41\n",
              "                    TYLENOL                17\n",
              "Name: Title, dtype: int64"
            ]
          },
          "metadata": {},
          "execution_count": 71
        }
      ]
    },
    {
      "cell_type": "markdown",
      "source": [
        "# On Brand Basis-Channels without location"
      ],
      "metadata": {
        "id": "xFqIYx-ahER0"
      }
    },
    {
      "cell_type": "code",
      "source": [
        "df[df[\"Location\"]==\"No Location\"].groupby([\"Scan_Month_of_2021\",\"Brand\"])[\"Title\"].value_counts()\n",
        "#For the month of February and March with no location, \"NOUTROGENA\" has the highest count for this dataset"
      ],
      "metadata": {
        "colab": {
          "base_uri": "https://localhost:8080/"
        },
        "id": "fdKL2L6DhN4n",
        "outputId": "86a66685-9f83-45f4-9657-6ad21996bf2e"
      },
      "execution_count": null,
      "outputs": [
        {
          "output_type": "execute_result",
          "data": {
            "text/plain": [
              "Scan_Month_of_2021  Brand        Title                           \n",
              "February            ACUVUE       youtube.com/ACUVUE GREECE           74\n",
              "                                 Acuvue Emea                         36\n",
              "                                 VisionCare Japan                    35\n",
              "                                 ACUVUE® Lentes de Contacto          25\n",
              "                                 ACUVUE® SK                          10\n",
              "                    AVEENO       Aveeno India                        15\n",
              "                                 Aveeno Indonesia                     3\n",
              "                                 Aveeno Portugal                      2\n",
              "                                 Aveno                                2\n",
              "                    BAND-AID     BAND-AID Brand Adhesive Bandages    27\n",
              "                    CLEAN&CLEAR  CLEAN & CLEAR® Arabia               97\n",
              "                                 Clean & Clear Canada                33\n",
              "                                 Clean & Clear Malaysia              18\n",
              "                    DR.CI:LABO   Dr.Ci:Labo Singapore                15\n",
              "                    IMODIUM      Imodium Middle East                  1\n",
              "                    LISTERINE    LISTERINE® México                   27\n",
              "                                 LISTERINE® Greece                   16\n",
              "                                 Listerine Israel                    12\n",
              "                                 LISTERINE® Sverige                   6\n",
              "                                 LISTERINE CZ                         2\n",
              "                                 LISTERINE® België                    1\n",
              "                    LUBRIDERM    Lubriderm USA                        1\n",
              "                    MOTRIN       MOTRIN®                             12\n",
              "                    NEOSTRATA    NeoStrata Malaysia                   1\n",
              "                    NEUTROGENA   Neutrogena Australia & NZ           94\n",
              "                                 Neutrogena HongKong                 79\n",
              "                                 NEUTROGENA® POLSKA                  39\n",
              "                                 Neutrogena México                   31\n",
              "                                 NEUTROGENA® UK and Ireland          18\n",
              "                                 Neutrogena Portugal                  6\n",
              "                                 Neutrogena PH                        5\n",
              "                    NICORETTE    Rygestop med NICORETTE® Danmark     66\n",
              "                                 Nicorette AU                        57\n",
              "                                 Nicorette Canada                    23\n",
              "                                 Nicorette GR                        15\n",
              "                                 Nicorette Portugal                   4\n",
              "                    OGX          OGX EMEA                             6\n",
              "                                 OGX Beauty Brasil                    3\n",
              "                                 Ogx Singapore                        1\n",
              "                    PEPCID       PEPCID®                             17\n",
              "                    PIZ BUIN     Piz Buin                             5\n",
              "                    RHINOCORT    Rhinocort Australia                  3\n",
              "                    SUDAFED      SUDAFED® UK                         10\n",
              "                                 SUDAFED®                             2\n",
              "                    TYLENOL      Tylenol Korea                       35\n",
              "                                 Tylenol Brasil                      12\n",
              "                                 Tylenol Thailand Thailand            9\n",
              "                    VISINE       VISINEOfficial                       4\n",
              "March               ACUVUE       youtube.com/ACUVUE GREECE           74\n",
              "                                 Acuvue Emea                         36\n",
              "                                 VisionCare Japan                    35\n",
              "                                 ACUVUE® Lentes de Contacto          25\n",
              "                                 ACUVUE® SK                          10\n",
              "                    AVEENO       Aveeno India                        15\n",
              "                                 Aveeno Malaysia                      9\n",
              "                                 Aveeno Indonesia                     3\n",
              "                                 Aveeno Portugal                      2\n",
              "                                 Aveno                                2\n",
              "                    BAND-AID     BAND-AID Brand Adhesive Bandages    27\n",
              "                    CLEAN&CLEAR  CLEAN & CLEAR® Arabia               97\n",
              "                                 Clean & Clear Canada                33\n",
              "                                 Clean & Clear Malaysia              18\n",
              "                    DR.CI:LABO   Dr.Ci:Labo Singapore                15\n",
              "                    IMODIUM      Imodium Middle East                  1\n",
              "                    LISTERINE    LISTERINE® México                   27\n",
              "                                 LISTERINE® Greece                   16\n",
              "                                 Listerine Israel                    12\n",
              "                                 LISTERINE® Sverige                   6\n",
              "                                 LISTERINE CZ                         2\n",
              "                                 LISTERINE® België                    1\n",
              "                    LUBRIDERM    Lubriderm USA                        1\n",
              "                    MOTRIN       MOTRIN®                             12\n",
              "                    NEOSTRATA    NeoStrata Malaysia                   1\n",
              "                    NEUTROGENA   Neutrogena Australia & NZ           94\n",
              "                                 Neutrogena HongKong                 79\n",
              "                                 NEUTROGENA® POLSKA                  39\n",
              "                                 Neutrogena México                   31\n",
              "                                 NEUTROGENA® UK and Ireland          18\n",
              "                                 Neutrogena Portugal                  6\n",
              "                                 Neutrogena PH                        5\n",
              "                    NICORETTE    Rygestop med NICORETTE® Danmark     66\n",
              "                                 Nicorette AU                        57\n",
              "                                 Nicorette Canada                    23\n",
              "                                 Nicorette GR                        15\n",
              "                                 Nicorette Portugal                   4\n",
              "                    OGX          OGX EMEA                             6\n",
              "                                 OGX Beauty Brasil                    3\n",
              "                                 Ogx Singapore                        1\n",
              "                    PEPCID       PEPCID®                             17\n",
              "                    PIZ BUIN     Piz Buin                             5\n",
              "                    RHINOCORT    Rhinocort Australia                  3\n",
              "                    SUDAFED      SUDAFED® UK                         10\n",
              "                                 SUDAFED®                             2\n",
              "                    TYLENOL      Tylenol Korea                       35\n",
              "                                 Tylenol Brasil                      12\n",
              "                                 Tylenol Thailand Thailand            9\n",
              "                    VISINE       VISINEOfficial                       4\n",
              "Name: Title, dtype: int64"
            ]
          },
          "metadata": {},
          "execution_count": 72
        }
      ]
    },
    {
      "cell_type": "code",
      "source": [
        "df[df[\"Location\"]==\"No Location\"].groupby([\"Scan_Month_of_2021\",\"Brand\"])[\"Title\"].count()"
      ],
      "metadata": {
        "colab": {
          "base_uri": "https://localhost:8080/"
        },
        "id": "xG5smCZuhevy",
        "outputId": "598b1120-7ab4-429a-db64-df1855c83fd6"
      },
      "execution_count": null,
      "outputs": [
        {
          "output_type": "execute_result",
          "data": {
            "text/plain": [
              "Scan_Month_of_2021  Brand      \n",
              "February            ACUVUE         180\n",
              "                    AVEENO          22\n",
              "                    BAND-AID        27\n",
              "                    CLEAN&CLEAR    148\n",
              "                    DR.CI:LABO      15\n",
              "                    IMODIUM          1\n",
              "                    LISTERINE       64\n",
              "                    LUBRIDERM        1\n",
              "                    MOTRIN          12\n",
              "                    NEOSTRATA        1\n",
              "                    NEUTROGENA     272\n",
              "                    NICORETTE      165\n",
              "                    OGX             10\n",
              "                    PEPCID          17\n",
              "                    PIZ BUIN         5\n",
              "                    RHINOCORT        3\n",
              "                    SUDAFED         12\n",
              "                    TYLENOL         56\n",
              "                    VISINE           4\n",
              "March               ACUVUE         180\n",
              "                    AVEENO          31\n",
              "                    BAND-AID        27\n",
              "                    CLEAN&CLEAR    148\n",
              "                    DR.CI:LABO      15\n",
              "                    IMODIUM          1\n",
              "                    LISTERINE       64\n",
              "                    LUBRIDERM        1\n",
              "                    MOTRIN          12\n",
              "                    NEOSTRATA        1\n",
              "                    NEUTROGENA     272\n",
              "                    NICORETTE      165\n",
              "                    OGX             10\n",
              "                    PEPCID          17\n",
              "                    PIZ BUIN         5\n",
              "                    RHINOCORT        3\n",
              "                    SUDAFED         12\n",
              "                    TYLENOL         56\n",
              "                    VISINE           4\n",
              "Name: Title, dtype: int64"
            ]
          },
          "metadata": {},
          "execution_count": 73
        }
      ]
    },
    {
      "cell_type": "markdown",
      "source": [
        "# On Brand Basis-Videos with less than 100 views"
      ],
      "metadata": {
        "id": "5srk_ETRhJNa"
      }
    },
    {
      "cell_type": "code",
      "source": [
        "df[df[\"Views\"]<100].groupby([\"Scan_Month_of_2021\",\"Brand\"])[\"Title\"].value_counts()\n",
        "#For the month of February and March with views less than 100, \"ACUVUE\" has the highest count for this dataset"
      ],
      "metadata": {
        "colab": {
          "base_uri": "https://localhost:8080/"
        },
        "id": "r1XNz4zehsmf",
        "outputId": "46e107ba-38d5-4b1a-b70a-80a3d17b5e50"
      },
      "execution_count": null,
      "outputs": [
        {
          "output_type": "execute_result",
          "data": {
            "text/plain": [
              "Scan_Month_of_2021  Brand       Title                               \n",
              "February            ACUVUE      youtube.com/ACUVUE GREECE               69\n",
              "                                Acuvue Emea                             33\n",
              "                                Johnson & Johnson Vision Türkiye        27\n",
              "                                ACUVUE® Italia                          12\n",
              "                                Acuvue INA                              12\n",
              "                                Acuvue México                            8\n",
              "                                ACUVUE® Lentes de Contacto               5\n",
              "                                ACUVUE® SK                               4\n",
              "                                VisionCare Japan                         4\n",
              "                                ACUVUE® Contact Lenses, UK & Ireland     1\n",
              "                    AVEENO      Aveeno Japan                             6\n",
              "                                Aveeno Portugal                          2\n",
              "                                AVEENO UK and IRELAND                    1\n",
              "                                Aveeno Canada                            1\n",
              "                                Aveeno Indonesia                         1\n",
              "                    BAND-AID    BAND-AID Brand Adhesive Bandages         4\n",
              "                    CAREFREE    Carefree Canada                          2\n",
              "                    IMODIUM     Imodium Polska                           3\n",
              "                    LISTERINE   LISTERINE® Canada                        9\n",
              "                                LISTERINE® México                        2\n",
              "                                LISTERINE® Ecuador                       1\n",
              "                                LISTERINE® Greece                        1\n",
              "                                Listerine® Italia                        1\n",
              "                    NEOSTRATA   NeoStrata Malaysia                       1\n",
              "                    NEUTROGENA  Neutrogena Australia & NZ                2\n",
              "                                Neutrogena Perú                          1\n",
              "                                Neutrogena Portugal                      1\n",
              "                    NICORETTE   Nicorette AU                             6\n",
              "                                Rygestop med NICORETTE® Danmark          6\n",
              "                                Nicorette Canada                         1\n",
              "                    PEPCID      PEPCID®                                  2\n",
              "                    STAYFREE    STAYFREE® South Africa                   6\n",
              "                    SUDAFED     SUDAFED® UK                              1\n",
              "                    TYLENOL     TYLENOL® Canada Brand Channel            2\n",
              "                                Tylenol Brasil                           2\n",
              "March               ACUVUE      youtube.com/ACUVUE GREECE               69\n",
              "                                Acuvue Emea                             33\n",
              "                                Johnson & Johnson Vision Türkiye        27\n",
              "                                ACUVUE ARGENTINA                        12\n",
              "                                ACUVUE® Italia                          12\n",
              "                                Acuvue INA                              12\n",
              "                                Acuvue México                            8\n",
              "                                ACUVUE® Lentes de Contacto               5\n",
              "                                ACUVUE® SK                               4\n",
              "                                VisionCare Japan                         4\n",
              "                                ACUVUE® Contact Lenses, UK & Ireland     1\n",
              "                    AVEENO      Aveeno Japan                             6\n",
              "                                Aveeno Portugal                          2\n",
              "                                AVEENO UK and IRELAND                    1\n",
              "                                Aveeno Canada                            1\n",
              "                                Aveeno Indonesia                         1\n",
              "                                Aveeno Malaysia                          1\n",
              "                    BAND-AID    BAND-AID Brand Adhesive Bandages         4\n",
              "                    CAREFREE    Carefree Canada                          2\n",
              "                    IMODIUM     Imodium Polska                           3\n",
              "                    LISTERINE   LISTERINE® Canada                        9\n",
              "                                LISTERINE® México                        2\n",
              "                                LISTERINE® Ecuador                       1\n",
              "                                LISTERINE® Greece                        1\n",
              "                                Listerine® Italia                        1\n",
              "                    NEOSTRATA   NeoStrata Malaysia                       1\n",
              "                    NEUTROGENA  Neutrogena Australia & NZ                2\n",
              "                                Neutrogena Perú                          1\n",
              "                                Neutrogena Portugal                      1\n",
              "                    NICORETTE   Nicorette AU                             6\n",
              "                                Rygestop med NICORETTE® Danmark          6\n",
              "                                Nicorette Canada                         1\n",
              "                    PEPCID      PEPCID®                                  2\n",
              "                    STAYFREE    STAYFREE® South Africa                   6\n",
              "                    SUDAFED     SUDAFED® UK                              1\n",
              "                    TYLENOL     TYLENOL® Canada Brand Channel            2\n",
              "                                Tylenol Brasil                           2\n",
              "Name: Title, dtype: int64"
            ]
          },
          "metadata": {},
          "execution_count": 74
        }
      ]
    },
    {
      "cell_type": "code",
      "source": [
        "df[df[\"Views\"]<100].groupby([\"Scan_Month_of_2021\",\"Brand\"])[\"Title\"].count()"
      ],
      "metadata": {
        "colab": {
          "base_uri": "https://localhost:8080/"
        },
        "id": "iYxYdni3h5oc",
        "outputId": "92b661b7-da1c-4b79-d84a-176cf5645c1d"
      },
      "execution_count": null,
      "outputs": [
        {
          "output_type": "execute_result",
          "data": {
            "text/plain": [
              "Scan_Month_of_2021  Brand     \n",
              "February            ACUVUE        175\n",
              "                    AVEENO         11\n",
              "                    BAND-AID        4\n",
              "                    CAREFREE        2\n",
              "                    IMODIUM         3\n",
              "                    LISTERINE      14\n",
              "                    NEOSTRATA       1\n",
              "                    NEUTROGENA      4\n",
              "                    NICORETTE      13\n",
              "                    PEPCID          2\n",
              "                    STAYFREE        6\n",
              "                    SUDAFED         1\n",
              "                    TYLENOL         4\n",
              "March               ACUVUE        187\n",
              "                    AVEENO         12\n",
              "                    BAND-AID        4\n",
              "                    CAREFREE        2\n",
              "                    IMODIUM         3\n",
              "                    LISTERINE      14\n",
              "                    NEOSTRATA       1\n",
              "                    NEUTROGENA      4\n",
              "                    NICORETTE      13\n",
              "                    PEPCID          2\n",
              "                    STAYFREE        6\n",
              "                    SUDAFED         1\n",
              "                    TYLENOL         4\n",
              "Name: Title, dtype: int64"
            ]
          },
          "metadata": {},
          "execution_count": 75
        }
      ]
    },
    {
      "cell_type": "markdown",
      "source": [
        "#Saving Final Data"
      ],
      "metadata": {
        "id": "fiWsNZd4k4km"
      }
    },
    {
      "cell_type": "code",
      "source": [
        "df.to_csv(\"YouTubeData_EDA.csv\", index=False)"
      ],
      "metadata": {
        "id": "wbw8Lvv2jugG"
      },
      "execution_count": null,
      "outputs": []
    }
  ],
  "metadata": {
    "kernelspec": {
      "display_name": "Python 3.8.3 32-bit",
      "language": "python",
      "name": "python38332bit9c047e7842d149818f878efc40058254"
    },
    "language_info": {
      "codemirror_mode": {
        "name": "ipython",
        "version": 3
      },
      "file_extension": ".py",
      "mimetype": "text/x-python",
      "name": "python",
      "nbconvert_exporter": "python",
      "pygments_lexer": "ipython3",
      "version": "3.8.3"
    },
    "toc": {
      "base_numbering": 1,
      "nav_menu": {},
      "number_sections": false,
      "sideBar": true,
      "skip_h1_title": false,
      "title_cell": "Table of Contents",
      "title_sidebar": "Contents",
      "toc_cell": false,
      "toc_position": {},
      "toc_section_display": true,
      "toc_window_display": true
    },
    "colab": {
      "name": "Uptitude_Project.ipynb",
      "provenance": [],
      "collapsed_sections": [],
      "include_colab_link": true
    }
  },
  "nbformat": 4,
  "nbformat_minor": 0
}